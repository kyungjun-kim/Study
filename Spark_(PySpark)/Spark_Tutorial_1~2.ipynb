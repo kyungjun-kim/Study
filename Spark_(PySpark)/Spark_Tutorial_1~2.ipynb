{
 "cells": [
  {
   "cell_type": "markdown",
   "metadata": {},
   "source": [
    "# 스파크 기초"
   ]
  },
  {
   "cell_type": "markdown",
   "metadata": {},
   "source": [
    "## 2장"
   ]
  },
  {
   "cell_type": "markdown",
   "metadata": {},
   "source": [
    "## 라이브러리 설치, 기본 세팅"
   ]
  },
  {
   "cell_type": "code",
   "execution_count": 3,
   "metadata": {},
   "outputs": [],
   "source": [
    "#pip install pyspark\n",
    "import pandas as pd\n",
    "import numpy as np\n",
    "import matplotlib.pyplot as plt\n",
    "import seaborn as sns\n",
    "import os\n",
    "\n",
    "plt.rc('font', family='Malgun Gothic')\n",
    "plt.rcParams['axes.unicode_minus'] = False\n",
    "\n",
    "# Pyspark - SQL\n",
    "from pyspark import SparkContext\n",
    "from pyspark.sql import SparkSession, SQLContext, Row, SparkSession\n",
    "from pyspark.sql.functions import mean, col, split, regexp_extract, when, lit\n",
    "\n",
    "# Pyspark - ML\n",
    "from pyspark.ml import Pipeline\n",
    "from pyspark.ml.feature import StringIndexer, VectorAssembler, QuantileDiscretizer\n",
    "from pyspark.ml.evaluation import MulticlassClassificationEvaluator\n",
    "\n",
    "#sc = SparkContext.getOrCreate() "
   ]
  },
  {
   "cell_type": "markdown",
   "metadata": {},
   "source": [
    "## 스파크 세션 실행"
   ]
  },
  {
   "cell_type": "code",
   "execution_count": 4,
   "metadata": {},
   "outputs": [],
   "source": [
    "spark = SparkSession.builder\\\n",
    "        .appName('Spark_Guide')\\\n",
    "        .getOrCreate()"
   ]
  },
  {
   "cell_type": "markdown",
   "metadata": {},
   "source": [
    "### 스파크 세션으로 간단한 데이터 프레임 생성"
   ]
  },
  {
   "cell_type": "code",
   "execution_count": 5,
   "metadata": {},
   "outputs": [],
   "source": [
    "myRange = spark.range(1000).toDF(\"number\")"
   ]
  },
  {
   "cell_type": "markdown",
   "metadata": {},
   "source": [
    "### 데이터프레임 트랜스포메이션 (DF 변경)"
   ]
  },
  {
   "cell_type": "code",
   "execution_count": 6,
   "metadata": {},
   "outputs": [],
   "source": [
    "divisBy2 = myRange.where(\"number % 2 = 0\")"
   ]
  },
  {
   "cell_type": "markdown",
   "metadata": {},
   "source": [
    "### 액션 (연산 수행)\n",
    "- 1000 에 \"% 2값이 0인 연산 실행\""
   ]
  },
  {
   "cell_type": "code",
   "execution_count": 7,
   "metadata": {},
   "outputs": [
    {
     "data": {
      "text/plain": [
       "500"
      ]
     },
     "execution_count": 7,
     "metadata": {},
     "output_type": "execute_result"
    }
   ],
   "source": [
    "divisBy2.count()"
   ]
  },
  {
   "cell_type": "markdown",
   "metadata": {},
   "source": [
    "### 예제 활용\n",
    "- 데이터 링크 : https://github.com/FVBros/Spark-The-Definitive-Guide/tree/master/data/flight-data/csv/2015-summary.csv\n",
    "- 스파크는 세션,파일 등을 생성하거나 불러올때 \\와 \".\" 으로 구분"
   ]
  },
  {
   "cell_type": "code",
   "execution_count": 8,
   "metadata": {},
   "outputs": [],
   "source": [
    "flightData2015 = spark\\\n",
    "    .read\\\n",
    "    .option('inferSchema', \"true\")\\\n",
    "    .option(\"header\", 'true')\\\n",
    "    .csv(\"data/flight-data/csv/2015-summary.csv\")"
   ]
  },
  {
   "cell_type": "code",
   "execution_count": 9,
   "metadata": {},
   "outputs": [
    {
     "name": "stdout",
     "output_type": "stream",
     "text": [
      "Help on method createOrReplaceTempView in module pyspark.sql.dataframe:\n",
      "\n",
      "createOrReplaceTempView(name: str) -> None method of pyspark.sql.dataframe.DataFrame instance\n",
      "    Creates or replaces a local temporary view with this :class:`DataFrame`.\n",
      "    \n",
      "    The lifetime of this temporary table is tied to the :class:`SparkSession`\n",
      "    that was used to create this :class:`DataFrame`.\n",
      "    \n",
      "    .. versionadded:: 2.0.0\n",
      "    \n",
      "    Examples\n",
      "    --------\n",
      "    >>> df.createOrReplaceTempView(\"people\")\n",
      "    >>> df2 = df.filter(df.age > 3)\n",
      "    >>> df2.createOrReplaceTempView(\"people\")\n",
      "    >>> df3 = spark.sql(\"select * from people\")\n",
      "    >>> sorted(df3.collect()) == sorted(df2.collect())\n",
      "    True\n",
      "    >>> spark.catalog.dropTempView(\"people\")\n",
      "    True\n",
      "\n"
     ]
    }
   ],
   "source": [
    "help(flightData2015.createOrReplaceTempView)"
   ]
  },
  {
   "cell_type": "code",
   "execution_count": 10,
   "metadata": {},
   "outputs": [],
   "source": [
    "flightData2015.createOrReplaceTempView(\"flight_data_2015\")"
   ]
  },
  {
   "cell_type": "markdown",
   "metadata": {},
   "source": [
    "### spark 쿼리문 비교\n",
    "- 둘다 동일한 결과로 나타남"
   ]
  },
  {
   "cell_type": "code",
   "execution_count": 11,
   "metadata": {},
   "outputs": [
    {
     "name": "stdout",
     "output_type": "stream",
     "text": [
      "== Physical Plan ==\n",
      "AdaptiveSparkPlan isFinalPlan=false\n",
      "+- HashAggregate(keys=[DEST_COUNTRY_NAME#27], functions=[count(1)])\n",
      "   +- Exchange hashpartitioning(DEST_COUNTRY_NAME#27, 200), ENSURE_REQUIREMENTS, [id=#71]\n",
      "      +- HashAggregate(keys=[DEST_COUNTRY_NAME#27], functions=[partial_count(1)])\n",
      "         +- FileScan csv [DEST_COUNTRY_NAME#27] Batched: false, DataFilters: [], Format: CSV, Location: InMemoryFileIndex(1 paths)[file:/c:/Users/REDTABLE/OneDrive/KyungJun/git_kkj214/스파크_공부 (PySpark)/..., PartitionFilters: [], PushedFilters: [], ReadSchema: struct<DEST_COUNTRY_NAME:string>\n",
      "\n",
      "\n",
      "== Physical Plan ==\n",
      "AdaptiveSparkPlan isFinalPlan=false\n",
      "+- HashAggregate(keys=[DEST_COUNTRY_NAME#27], functions=[count(1)])\n",
      "   +- Exchange hashpartitioning(DEST_COUNTRY_NAME#27, 200), ENSURE_REQUIREMENTS, [id=#84]\n",
      "      +- HashAggregate(keys=[DEST_COUNTRY_NAME#27], functions=[partial_count(1)])\n",
      "         +- FileScan csv [DEST_COUNTRY_NAME#27] Batched: false, DataFilters: [], Format: CSV, Location: InMemoryFileIndex(1 paths)[file:/c:/Users/REDTABLE/OneDrive/KyungJun/git_kkj214/스파크_공부 (PySpark)/..., PartitionFilters: [], PushedFilters: [], ReadSchema: struct<DEST_COUNTRY_NAME:string>\n",
      "\n",
      "\n"
     ]
    }
   ],
   "source": [
    "sqlWay = spark.sql(\"\"\"\n",
    "SELECT DEST_COUNTRY_NAME, count(1)\n",
    "FROM flight_data_2015\n",
    "GROUP BY DEST_COUNTRY_NAME\n",
    "\n",
    "\"\"\")\n",
    "\n",
    "dataFrameWay = flightData2015\\\n",
    "  .groupBy(\"DEST_COUNTRY_NAME\")\\\n",
    "  .count()\n",
    "\n",
    "sqlWay.explain()\n",
    "dataFrameWay.explain()"
   ]
  },
  {
   "cell_type": "code",
   "execution_count": 12,
   "metadata": {},
   "outputs": [
    {
     "data": {
      "text/plain": [
       "[Row(max(count)=370002)]"
      ]
     },
     "execution_count": 12,
     "metadata": {},
     "output_type": "execute_result"
    }
   ],
   "source": [
    "from pyspark.sql.functions import max\n",
    "\n",
    "flightData2015.select(max(\"count\")).take(1)\n",
    "# 데이터프레임 사용"
   ]
  },
  {
   "cell_type": "markdown",
   "metadata": {},
   "source": [
    "- spark.sql에서 쿼리문법을 사용한 결과와, flightData2015 자체에 groupby, sum 등 연산을 적용한 결과 역시 동일"
   ]
  },
  {
   "cell_type": "code",
   "execution_count": 13,
   "metadata": {},
   "outputs": [
    {
     "name": "stdout",
     "output_type": "stream",
     "text": [
      "+------------------+-----------------+\n",
      "| DEST_COUNTRY_NAME|destination_total|\n",
      "+------------------+-----------------+\n",
      "|     United States|           411352|\n",
      "|            Canada|             8399|\n",
      "|            Mexico|             7140|\n",
      "|    United Kingdom|             2025|\n",
      "|             Japan|             1548|\n",
      "|           Germany|             1468|\n",
      "|Dominican Republic|             1353|\n",
      "+------------------+-----------------+\n",
      "\n",
      "+------------------+-----------------+\n",
      "| DEST_COUNTRY_NAME|destination_total|\n",
      "+------------------+-----------------+\n",
      "|     United States|           411352|\n",
      "|            Canada|             8399|\n",
      "|            Mexico|             7140|\n",
      "|    United Kingdom|             2025|\n",
      "|             Japan|             1548|\n",
      "|           Germany|             1468|\n",
      "|Dominican Republic|             1353|\n",
      "+------------------+-----------------+\n",
      "\n"
     ]
    }
   ],
   "source": [
    "maxSql = spark.sql(\"\"\"\n",
    "SELECT DEST_COUNTRY_NAME, sum(count) as destination_total\n",
    "FROM flight_data_2015\n",
    "GROUP BY DEST_COUNTRY_NAME\n",
    "ORDER BY sum(count) DESC\n",
    "LIMIT 7\n",
    "\"\"\")\n",
    "\n",
    "maxSql.show()\n",
    "\n",
    "from pyspark.sql.functions import desc\n",
    "\n",
    "flightData2015\\\n",
    "  .groupBy(\"DEST_COUNTRY_NAME\")\\\n",
    "  .sum(\"count\")\\\n",
    "  .withColumnRenamed(\"sum(count)\", \"destination_total\")\\\n",
    "  .sort(desc(\"destination_total\"))\\\n",
    "  .limit(7)\\\n",
    "  .show()"
   ]
  },
  {
   "cell_type": "markdown",
   "metadata": {},
   "source": [
    "### 실행계획\n",
    "- .explain()을 통해 데이터 표출 방식 설명"
   ]
  },
  {
   "cell_type": "code",
   "execution_count": 14,
   "metadata": {},
   "outputs": [
    {
     "name": "stdout",
     "output_type": "stream",
     "text": [
      "== Physical Plan ==\n",
      "AdaptiveSparkPlan isFinalPlan=false\n",
      "+- TakeOrderedAndProject(limit=5, orderBy=[destination_total#109L DESC NULLS LAST], output=[DEST_COUNTRY_NAME#27,destination_total#109L])\n",
      "   +- HashAggregate(keys=[DEST_COUNTRY_NAME#27], functions=[sum(count#29)])\n",
      "      +- Exchange hashpartitioning(DEST_COUNTRY_NAME#27, 200), ENSURE_REQUIREMENTS, [id=#252]\n",
      "         +- HashAggregate(keys=[DEST_COUNTRY_NAME#27], functions=[partial_sum(count#29)])\n",
      "            +- FileScan csv [DEST_COUNTRY_NAME#27,count#29] Batched: false, DataFilters: [], Format: CSV, Location: InMemoryFileIndex(1 paths)[file:/c:/Users/REDTABLE/OneDrive/KyungJun/git_kkj214/스파크_공부 (PySpark)/..., PartitionFilters: [], PushedFilters: [], ReadSchema: struct<DEST_COUNTRY_NAME:string,count:int>\n",
      "\n",
      "\n"
     ]
    }
   ],
   "source": [
    "flightData2015\\\n",
    "  .groupBy(\"DEST_COUNTRY_NAME\")\\\n",
    "  .sum(\"count\")\\\n",
    "  .withColumnRenamed(\"sum(count)\", \"destination_total\")\\\n",
    "  .sort(desc(\"destination_total\"))\\\n",
    "  .limit(5)\\\n",
    "  .explain()"
   ]
  }
 ],
 "metadata": {
  "kernelspec": {
   "display_name": "Python 3.8.8 ('base')",
   "language": "python",
   "name": "python3"
  },
  "language_info": {
   "codemirror_mode": {
    "name": "ipython",
    "version": 3
   },
   "file_extension": ".py",
   "mimetype": "text/x-python",
   "name": "python",
   "nbconvert_exporter": "python",
   "pygments_lexer": "ipython3",
   "version": "3.8.8"
  },
  "orig_nbformat": 4,
  "vscode": {
   "interpreter": {
    "hash": "4983dea7fb74a7657ed0a30d17b95d761904bf85c80aa3fbbb72a0182d34178c"
   }
  }
 },
 "nbformat": 4,
 "nbformat_minor": 2
}
