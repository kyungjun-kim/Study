{
 "cells": [
  {
   "cell_type": "markdown",
   "id": "15561c7e",
   "metadata": {},
   "source": [
    "# 1. 데이터 & 라이브러리 로드"
   ]
  },
  {
   "cell_type": "code",
   "execution_count": 17,
   "id": "3d02d124",
   "metadata": {
    "scrolled": true
   },
   "outputs": [],
   "source": [
    "#pip install pyspark\n",
    "import pandas as pd\n",
    "import numpy as np\n",
    "import os\n",
    "\n",
    "import matplotlib.pyplot as plt\n",
    "import seaborn as sns\n",
    "plt.rc('font', family='Malgun Gothic')\n",
    "plt.rcParams['axes.unicode_minus'] = False\n",
    "\n",
    "# Pyspark - SQL\n",
    "from pyspark.sql import SparkSession\n",
    "from pyspark.sql import SQLContext\n",
    "from pyspark.sql.functions import mean, col, split, regexp_extract, when, lit\n",
    "from pyspark.sql import Row\n",
    "from pyspark.sql import SparkSession\n",
    "from pyspark import SparkContext\n",
    "\n",
    "# Pyspark - ML\n",
    "from pyspark.ml import Pipeline\n",
    "from pyspark.ml.feature import StringIndexer, VectorAssembler\n",
    "from pyspark.ml.evaluation import MulticlassClassificationEvaluator\n",
    "from pyspark.ml.feature import QuantileDiscretizer\n",
    "\n",
    "sc = SparkContext.getOrCreate() "
   ]
  },
  {
   "cell_type": "code",
   "execution_count": 18,
   "id": "121c4ddc",
   "metadata": {
    "scrolled": true
   },
   "outputs": [
    {
     "data": {
      "text/html": [
       "<div>\n",
       "<style scoped>\n",
       "    .dataframe tbody tr th:only-of-type {\n",
       "        vertical-align: middle;\n",
       "    }\n",
       "\n",
       "    .dataframe tbody tr th {\n",
       "        vertical-align: top;\n",
       "    }\n",
       "\n",
       "    .dataframe thead th {\n",
       "        text-align: right;\n",
       "    }\n",
       "</style>\n",
       "<table border=\"1\" class=\"dataframe\">\n",
       "  <thead>\n",
       "    <tr style=\"text-align: right;\">\n",
       "      <th></th>\n",
       "      <th>PassengerId</th>\n",
       "      <th>Survived</th>\n",
       "      <th>Pclass</th>\n",
       "      <th>Name</th>\n",
       "      <th>Sex</th>\n",
       "      <th>Age</th>\n",
       "      <th>SibSp</th>\n",
       "      <th>Parch</th>\n",
       "      <th>Ticket</th>\n",
       "      <th>Fare</th>\n",
       "      <th>Cabin</th>\n",
       "      <th>Embarked</th>\n",
       "    </tr>\n",
       "  </thead>\n",
       "  <tbody>\n",
       "    <tr>\n",
       "      <th>0</th>\n",
       "      <td>1</td>\n",
       "      <td>0</td>\n",
       "      <td>3</td>\n",
       "      <td>Braund, Mr. Owen Harris</td>\n",
       "      <td>male</td>\n",
       "      <td>22.0</td>\n",
       "      <td>1</td>\n",
       "      <td>0</td>\n",
       "      <td>A/5 21171</td>\n",
       "      <td>7.2500</td>\n",
       "      <td>None</td>\n",
       "      <td>S</td>\n",
       "    </tr>\n",
       "    <tr>\n",
       "      <th>1</th>\n",
       "      <td>2</td>\n",
       "      <td>1</td>\n",
       "      <td>1</td>\n",
       "      <td>Cumings, Mrs. John Bradley (Florence Briggs Th...</td>\n",
       "      <td>female</td>\n",
       "      <td>38.0</td>\n",
       "      <td>1</td>\n",
       "      <td>0</td>\n",
       "      <td>PC 17599</td>\n",
       "      <td>71.2833</td>\n",
       "      <td>C85</td>\n",
       "      <td>C</td>\n",
       "    </tr>\n",
       "    <tr>\n",
       "      <th>2</th>\n",
       "      <td>3</td>\n",
       "      <td>1</td>\n",
       "      <td>3</td>\n",
       "      <td>Heikkinen, Miss. Laina</td>\n",
       "      <td>female</td>\n",
       "      <td>26.0</td>\n",
       "      <td>0</td>\n",
       "      <td>0</td>\n",
       "      <td>STON/O2. 3101282</td>\n",
       "      <td>7.9250</td>\n",
       "      <td>None</td>\n",
       "      <td>S</td>\n",
       "    </tr>\n",
       "  </tbody>\n",
       "</table>\n",
       "</div>"
      ],
      "text/plain": [
       "   PassengerId  Survived  Pclass  \\\n",
       "0            1         0       3   \n",
       "1            2         1       1   \n",
       "2            3         1       3   \n",
       "\n",
       "                                                Name     Sex   Age  SibSp  \\\n",
       "0                            Braund, Mr. Owen Harris    male  22.0      1   \n",
       "1  Cumings, Mrs. John Bradley (Florence Briggs Th...  female  38.0      1   \n",
       "2                             Heikkinen, Miss. Laina  female  26.0      0   \n",
       "\n",
       "   Parch            Ticket     Fare Cabin Embarked  \n",
       "0      0         A/5 21171   7.2500  None        S  \n",
       "1      0          PC 17599  71.2833   C85        C  \n",
       "2      0  STON/O2. 3101282   7.9250  None        S  "
      ]
     },
     "execution_count": 18,
     "metadata": {},
     "output_type": "execute_result"
    }
   ],
   "source": [
    "# SparkSession 생성\n",
    "spark = SparkSession.builder\\\n",
    "        .appName('Play with pypsark ML on Titanic Data')\\\n",
    "        .getOrCreate()\n",
    "# 데이터 로드\n",
    "df = spark.read.csv('titanic/train.csv', header=True, inferSchema=True)\n",
    "# toPandas()를 이용해 판다스에서 제공하는 데이터프레임 형태로 출력\n",
    "df.limit(3).toPandas()\n"
   ]
  },
  {
   "cell_type": "code",
   "execution_count": 19,
   "id": "656e7c76",
   "metadata": {},
   "outputs": [
    {
     "data": {
      "text/html": [
       "<div>\n",
       "<style scoped>\n",
       "    .dataframe tbody tr th:only-of-type {\n",
       "        vertical-align: middle;\n",
       "    }\n",
       "\n",
       "    .dataframe tbody tr th {\n",
       "        vertical-align: top;\n",
       "    }\n",
       "\n",
       "    .dataframe thead th {\n",
       "        text-align: right;\n",
       "    }\n",
       "</style>\n",
       "<table border=\"1\" class=\"dataframe\">\n",
       "  <thead>\n",
       "    <tr style=\"text-align: right;\">\n",
       "      <th></th>\n",
       "      <th>PassengerId</th>\n",
       "      <th>Survived</th>\n",
       "      <th>Pclass</th>\n",
       "      <th>Name</th>\n",
       "      <th>Sex</th>\n",
       "      <th>Age</th>\n",
       "      <th>SibSp</th>\n",
       "      <th>Parch</th>\n",
       "      <th>Ticket</th>\n",
       "      <th>Fare</th>\n",
       "      <th>Cabin</th>\n",
       "      <th>Embarked</th>\n",
       "    </tr>\n",
       "  </thead>\n",
       "  <tbody>\n",
       "    <tr>\n",
       "      <th>0</th>\n",
       "      <td>1</td>\n",
       "      <td>0</td>\n",
       "      <td>3</td>\n",
       "      <td>Braund, Mr. Owen Harris</td>\n",
       "      <td>male</td>\n",
       "      <td>22.0</td>\n",
       "      <td>1</td>\n",
       "      <td>0</td>\n",
       "      <td>A/5 21171</td>\n",
       "      <td>7.2500</td>\n",
       "      <td>None</td>\n",
       "      <td>S</td>\n",
       "    </tr>\n",
       "    <tr>\n",
       "      <th>1</th>\n",
       "      <td>2</td>\n",
       "      <td>1</td>\n",
       "      <td>1</td>\n",
       "      <td>Cumings, Mrs. John Bradley (Florence Briggs Th...</td>\n",
       "      <td>female</td>\n",
       "      <td>38.0</td>\n",
       "      <td>1</td>\n",
       "      <td>0</td>\n",
       "      <td>PC 17599</td>\n",
       "      <td>71.2833</td>\n",
       "      <td>C85</td>\n",
       "      <td>C</td>\n",
       "    </tr>\n",
       "    <tr>\n",
       "      <th>2</th>\n",
       "      <td>3</td>\n",
       "      <td>1</td>\n",
       "      <td>3</td>\n",
       "      <td>Heikkinen, Miss. Laina</td>\n",
       "      <td>female</td>\n",
       "      <td>26.0</td>\n",
       "      <td>0</td>\n",
       "      <td>0</td>\n",
       "      <td>STON/O2. 3101282</td>\n",
       "      <td>7.9250</td>\n",
       "      <td>None</td>\n",
       "      <td>S</td>\n",
       "    </tr>\n",
       "    <tr>\n",
       "      <th>3</th>\n",
       "      <td>4</td>\n",
       "      <td>1</td>\n",
       "      <td>1</td>\n",
       "      <td>Futrelle, Mrs. Jacques Heath (Lily May Peel)</td>\n",
       "      <td>female</td>\n",
       "      <td>35.0</td>\n",
       "      <td>1</td>\n",
       "      <td>0</td>\n",
       "      <td>113803</td>\n",
       "      <td>53.1000</td>\n",
       "      <td>C123</td>\n",
       "      <td>S</td>\n",
       "    </tr>\n",
       "    <tr>\n",
       "      <th>4</th>\n",
       "      <td>5</td>\n",
       "      <td>0</td>\n",
       "      <td>3</td>\n",
       "      <td>Allen, Mr. William Henry</td>\n",
       "      <td>male</td>\n",
       "      <td>35.0</td>\n",
       "      <td>0</td>\n",
       "      <td>0</td>\n",
       "      <td>373450</td>\n",
       "      <td>8.0500</td>\n",
       "      <td>None</td>\n",
       "      <td>S</td>\n",
       "    </tr>\n",
       "    <tr>\n",
       "      <th>...</th>\n",
       "      <td>...</td>\n",
       "      <td>...</td>\n",
       "      <td>...</td>\n",
       "      <td>...</td>\n",
       "      <td>...</td>\n",
       "      <td>...</td>\n",
       "      <td>...</td>\n",
       "      <td>...</td>\n",
       "      <td>...</td>\n",
       "      <td>...</td>\n",
       "      <td>...</td>\n",
       "      <td>...</td>\n",
       "    </tr>\n",
       "    <tr>\n",
       "      <th>886</th>\n",
       "      <td>887</td>\n",
       "      <td>0</td>\n",
       "      <td>2</td>\n",
       "      <td>Montvila, Rev. Juozas</td>\n",
       "      <td>male</td>\n",
       "      <td>27.0</td>\n",
       "      <td>0</td>\n",
       "      <td>0</td>\n",
       "      <td>211536</td>\n",
       "      <td>13.0000</td>\n",
       "      <td>None</td>\n",
       "      <td>S</td>\n",
       "    </tr>\n",
       "    <tr>\n",
       "      <th>887</th>\n",
       "      <td>888</td>\n",
       "      <td>1</td>\n",
       "      <td>1</td>\n",
       "      <td>Graham, Miss. Margaret Edith</td>\n",
       "      <td>female</td>\n",
       "      <td>19.0</td>\n",
       "      <td>0</td>\n",
       "      <td>0</td>\n",
       "      <td>112053</td>\n",
       "      <td>30.0000</td>\n",
       "      <td>B42</td>\n",
       "      <td>S</td>\n",
       "    </tr>\n",
       "    <tr>\n",
       "      <th>888</th>\n",
       "      <td>889</td>\n",
       "      <td>0</td>\n",
       "      <td>3</td>\n",
       "      <td>\"Johnston, Miss. Catherine Helen \"\"Carrie\"\"\"</td>\n",
       "      <td>female</td>\n",
       "      <td>NaN</td>\n",
       "      <td>1</td>\n",
       "      <td>2</td>\n",
       "      <td>W./C. 6607</td>\n",
       "      <td>23.4500</td>\n",
       "      <td>None</td>\n",
       "      <td>S</td>\n",
       "    </tr>\n",
       "    <tr>\n",
       "      <th>889</th>\n",
       "      <td>890</td>\n",
       "      <td>1</td>\n",
       "      <td>1</td>\n",
       "      <td>Behr, Mr. Karl Howell</td>\n",
       "      <td>male</td>\n",
       "      <td>26.0</td>\n",
       "      <td>0</td>\n",
       "      <td>0</td>\n",
       "      <td>111369</td>\n",
       "      <td>30.0000</td>\n",
       "      <td>C148</td>\n",
       "      <td>C</td>\n",
       "    </tr>\n",
       "    <tr>\n",
       "      <th>890</th>\n",
       "      <td>891</td>\n",
       "      <td>0</td>\n",
       "      <td>3</td>\n",
       "      <td>Dooley, Mr. Patrick</td>\n",
       "      <td>male</td>\n",
       "      <td>32.0</td>\n",
       "      <td>0</td>\n",
       "      <td>0</td>\n",
       "      <td>370376</td>\n",
       "      <td>7.7500</td>\n",
       "      <td>None</td>\n",
       "      <td>Q</td>\n",
       "    </tr>\n",
       "  </tbody>\n",
       "</table>\n",
       "<p>891 rows × 12 columns</p>\n",
       "</div>"
      ],
      "text/plain": [
       "     PassengerId  Survived  Pclass  \\\n",
       "0              1         0       3   \n",
       "1              2         1       1   \n",
       "2              3         1       3   \n",
       "3              4         1       1   \n",
       "4              5         0       3   \n",
       "..           ...       ...     ...   \n",
       "886          887         0       2   \n",
       "887          888         1       1   \n",
       "888          889         0       3   \n",
       "889          890         1       1   \n",
       "890          891         0       3   \n",
       "\n",
       "                                                  Name     Sex   Age  SibSp  \\\n",
       "0                              Braund, Mr. Owen Harris    male  22.0      1   \n",
       "1    Cumings, Mrs. John Bradley (Florence Briggs Th...  female  38.0      1   \n",
       "2                               Heikkinen, Miss. Laina  female  26.0      0   \n",
       "3         Futrelle, Mrs. Jacques Heath (Lily May Peel)  female  35.0      1   \n",
       "4                             Allen, Mr. William Henry    male  35.0      0   \n",
       "..                                                 ...     ...   ...    ...   \n",
       "886                              Montvila, Rev. Juozas    male  27.0      0   \n",
       "887                       Graham, Miss. Margaret Edith  female  19.0      0   \n",
       "888       \"Johnston, Miss. Catherine Helen \"\"Carrie\"\"\"  female   NaN      1   \n",
       "889                              Behr, Mr. Karl Howell    male  26.0      0   \n",
       "890                                Dooley, Mr. Patrick    male  32.0      0   \n",
       "\n",
       "     Parch            Ticket     Fare Cabin Embarked  \n",
       "0        0         A/5 21171   7.2500  None        S  \n",
       "1        0          PC 17599  71.2833   C85        C  \n",
       "2        0  STON/O2. 3101282   7.9250  None        S  \n",
       "3        0            113803  53.1000  C123        S  \n",
       "4        0            373450   8.0500  None        S  \n",
       "..     ...               ...      ...   ...      ...  \n",
       "886      0            211536  13.0000  None        S  \n",
       "887      0            112053  30.0000   B42        S  \n",
       "888      2        W./C. 6607  23.4500  None        S  \n",
       "889      0            111369  30.0000  C148        C  \n",
       "890      0            370376   7.7500  None        Q  \n",
       "\n",
       "[891 rows x 12 columns]"
      ]
     },
     "execution_count": 19,
     "metadata": {},
     "output_type": "execute_result"
    }
   ],
   "source": [
    "df#.limit(3)\n",
    "df.toPandas()"
   ]
  },
  {
   "cell_type": "markdown",
   "id": "0f8d979f",
   "metadata": {},
   "source": [
    "# 2. 시각화"
   ]
  },
  {
   "cell_type": "code",
   "execution_count": 20,
   "id": "95bee765",
   "metadata": {
    "scrolled": false
   },
   "outputs": [
    {
     "name": "stdout",
     "output_type": "stream",
     "text": [
      "pandas_df 타입: <class 'pandas.core.frame.DataFrame'>\n"
     ]
    },
    {
     "name": "stderr",
     "output_type": "stream",
     "text": [
      "C:\\Users\\REDTABLE\\Anaconda3\\lib\\site-packages\\seaborn\\distributions.py:2557: FutureWarning: `distplot` is a deprecated function and will be removed in a future version. Please adapt your code to use either `displot` (a figure-level function with similar flexibility) or `histplot` (an axes-level function for histograms).\n",
      "  warnings.warn(msg, FutureWarning)\n"
     ]
    },
    {
     "data": {
      "image/png": "[encoded data removed]",
      "text/plain": [
       "<Figure size 720x360 with 1 Axes>"
      ]
     },
     "metadata": {
      "needs_background": "light"
     },
     "output_type": "display_data"
    }
   ],
   "source": [
    "# Pandas 데이터프레임 형태로 우선 변환!\n",
    "pandas_df = df.toPandas()\n",
    "print(\"pandas_df 타입:\", type(pandas_df))\n",
    "\n",
    "# Seaborn 사용해보기\n",
    "plt.figure(figsize=(10, 5))\n",
    "plt.title(\"타이타닉 탑승객의 Age KDE 분포\")\n",
    "sns.distplot(pandas_df['Age'])\n",
    "plt.show()"
   ]
  },
  {
   "cell_type": "markdown",
   "id": "07366b2f",
   "metadata": {},
   "source": [
    "# 3. 데이터 확인 (결측치)"
   ]
  },
  {
   "cell_type": "code",
   "execution_count": 27,
   "id": "b62c9e8e",
   "metadata": {},
   "outputs": [
    {
     "name": "stdout",
     "output_type": "stream",
     "text": [
      "+-----------+--------+------+----+---+---+-----+-----+------+----+--------+-------+\n",
      "|PassengerId|Survived|Pclass|Name|Sex|Age|SibSp|Parch|Ticket|Fare|Embarked|Initial|\n",
      "+-----------+--------+------+----+---+---+-----+-----+------+----+--------+-------+\n",
      "|          0|       0|     0|   0|  0|177|    0|    0|     0|   0|       2|      0|\n",
      "+-----------+--------+------+----+---+---+-----+-----+------+----+--------+-------+\n",
      "\n"
     ]
    }
   ],
   "source": [
    "# 위 2가지 방법을 동시에 사용해보자!\n",
    "# 결측치가 있는 변수를 체크하고 결측치가 몇 개 있는지 살펴보기\n",
    "\n",
    "from pyspark.sql.functions import isnan, count\n",
    "df.select([count(when(isnan(c) | col(c).isNull(), c)).alias(c) for c in df.columns])\\\n",
    "  .show()"
   ]
  },
  {
   "cell_type": "code",
   "execution_count": 23,
   "id": "21504e02",
   "metadata": {},
   "outputs": [],
   "source": [
    "# Cabin 변수는 결측치가 50%가 넘기 때문에 해당 변수를 삭제하자\n",
    "df = df.drop('Cabin')"
   ]
  },
  {
   "cell_type": "code",
   "execution_count": 25,
   "id": "a7344112",
   "metadata": {},
   "outputs": [
    {
     "name": "stdout",
     "output_type": "stream",
     "text": [
      "+-----------+--------+------+--------------------+------+----+-----+-----+----------------+-------+--------+-------+\n",
      "|PassengerId|Survived|Pclass|                Name|   Sex| Age|SibSp|Parch|          Ticket|   Fare|Embarked|Initial|\n",
      "+-----------+--------+------+--------------------+------+----+-----+-----+----------------+-------+--------+-------+\n",
      "|          1|       0|     3|Braund, Mr. Owen ...|  male|22.0|    1|    0|       A/5 21171|   7.25|       S|     Mr|\n",
      "|          2|       1|     1|Cumings, Mrs. Joh...|female|38.0|    1|    0|        PC 17599|71.2833|       C|    Mrs|\n",
      "|          3|       1|     3|Heikkinen, Miss. ...|female|26.0|    0|    0|STON/O2. 3101282|  7.925|       S|   Miss|\n",
      "+-----------+--------+------+--------------------+------+----+-----+-----+----------------+-------+--------+-------+\n",
      "\n"
     ]
    }
   ],
   "source": [
    "# 새로운 파생변수를 생성한 데이터프레임을 새로 할당!\n",
    "df = df.withColumn(\"Initial\", regexp_extract(col(\"Name\"),\n",
    "                                            \"([A-Za-z]+)\\.\", # ()이게 하나의 그룹임!\n",
    "                                            1)) # 그룹 인덱스는 1부터!\n",
    "df.limit(3).show()"
   ]
  },
  {
   "cell_type": "code",
   "execution_count": 28,
   "id": "9c2cf6d6",
   "metadata": {},
   "outputs": [
    {
     "data": {
      "text/plain": [
       "[Row(Initial='Miss', avg(Age)=21.86),\n",
       " Row(Initial='Other', avg(Age)=45.888888888888886),\n",
       " Row(Initial='Master', avg(Age)=4.574166666666667),\n",
       " Row(Initial='Mr', avg(Age)=32.73960880195599),\n",
       " Row(Initial='Mrs', avg(Age)=35.981818181818184)]"
      ]
     },
     "execution_count": 28,
     "metadata": {},
     "output_type": "execute_result"
    }
   ],
   "source": [
    "df = df.replace(['Mlle','Mme', 'Ms', 'Dr','Major','Lady','Countess','Jonkheer','Col','Rev','Capt','Sir','Don'],\n",
    "                ['Miss','Miss','Miss','Mr','Mr',  'Mrs',  'Mrs',  'Other',  'Other','Other','Mr','Mr','Mr'])\n",
    "\n",
    "# Initial 변수 값들로 그룹핑한 후 평균 Age 구하기\n",
    "df.groupby('Initial').avg('Age').collect()"
   ]
  },
  {
   "cell_type": "code",
   "execution_count": 30,
   "id": "6386d7ae",
   "metadata": {},
   "outputs": [],
   "source": [
    "df = df.withColumn('Age',\n",
    "                  when((df['Initial'] == 'Miss') & (df['Age'].isNull()),\n",
    "                      22).otherwise(df['Age']))\n",
    "df = df.withColumn('Age',\n",
    "                  when((df['Initial'] == 'Other') & (df['Age'].isNull()),\n",
    "                      46).otherwise(df['Age']))\n",
    "df = df.withColumn('Age',\n",
    "                  when((df['Initial'] == 'Master') & (df['Age'].isNull()),\n",
    "                      5).otherwise(df['Age']))\n",
    "df = df.withColumn('Age',\n",
    "                  when((df['Initial'] == 'Mr') & (df['Age'].isNull()),\n",
    "                      33).otherwise(df['Age']))\n",
    "df = df.withColumn('Age',\n",
    "                  when((df['Initial'] == 'Mrs') & (df['Age'].isNull()),\n",
    "                      36).otherwise(df['Age']))"
   ]
  },
  {
   "cell_type": "code",
   "execution_count": 31,
   "id": "9a620139",
   "metadata": {},
   "outputs": [
    {
     "name": "stdout",
     "output_type": "stream",
     "text": [
      "+--------+-----+\n",
      "|Embarked|count|\n",
      "+--------+-----+\n",
      "|       Q|   77|\n",
      "|    null|    2|\n",
      "|       C|  168|\n",
      "|       S|  644|\n",
      "+--------+-----+\n",
      "\n"
     ]
    }
   ],
   "source": [
    "# Embarked 변수에도 결측치가 2개 있었는데 무엇인지 확인해보기\n",
    "df.groupBy('Embarked').count().show()"
   ]
  },
  {
   "cell_type": "code",
   "execution_count": 32,
   "id": "f60bdbfa",
   "metadata": {},
   "outputs": [
    {
     "name": "stdout",
     "output_type": "stream",
     "text": [
      "+--------+-----+\n",
      "|Embarked|count|\n",
      "+--------+-----+\n",
      "|       Q|   77|\n",
      "|       C|  168|\n",
      "|       S|  646|\n",
      "+--------+-----+\n",
      "\n"
     ]
    }
   ],
   "source": [
    "# Embarked의 결측치는 최빈값인 'S'로 대체해주기\n",
    "df = df.na.fill({\"Embarked\": \"S\"})\n",
    "# 결측치가 채워졌는지 다시 확인\n",
    "df.groupBy('Embarked').count().show()"
   ]
  },
  {
   "cell_type": "markdown",
   "id": "1edecc28",
   "metadata": {},
   "source": [
    "# 4. Feature Engineereing"
   ]
  },
  {
   "cell_type": "code",
   "execution_count": 33,
   "id": "67348942",
   "metadata": {},
   "outputs": [],
   "source": [
    "# Family size라는 파생변수 생성\n",
    "df = df.withColumn(\"Family_Size\",\n",
    "                  col('SibSp')+col('Parch')) # df['SibSp']도 가능!\n",
    "\n",
    "# Alone이라는 Binary 파생변수 생성하는데, 우선 0으로 다 해놓기\n",
    "df = df.withColumn('Alone', lit(0))\n",
    "# 조건에 맞게 Alone 변수값 변경\n",
    "df = df.withColumn('Alone',\n",
    "                  when(col('Family_Size') == 0, 1)\\\n",
    "                  .otherwise(col('Alone')))"
   ]
  },
  {
   "cell_type": "code",
   "execution_count": 35,
   "id": "cb22346a",
   "metadata": {},
   "outputs": [
    {
     "name": "stdout",
     "output_type": "stream",
     "text": [
      "StringIndexerModel: uid=StringIndexer_b13f9ea05235, handleInvalid=error\n",
      "--------------------------------------------------------------------------------\n",
      "StringIndexerModel: uid=StringIndexer_d2e17507f7bb, handleInvalid=error\n",
      "--------------------------------------------------------------------------------\n",
      "StringIndexerModel: uid=StringIndexer_15b710c27bac, handleInvalid=error\n",
      "--------------------------------------------------------------------------------\n",
      "<class 'list'>\n"
     ]
    }
   ],
   "source": [
    "convert_cols = ['Sex', 'Embarked', 'Initial']\n",
    "\n",
    "# 추후에 IndexToString할려면 indexer 객체를 사용하면 됨! \n",
    "indexer = [StringIndexer(inputCol=col,\n",
    "                         outputCol=col+'_index').fit(df) for col in convert_cols]\n",
    "for i in indexer:\n",
    "    print(i)\n",
    "    print('-'*80)\n",
    "\n",
    "print(type(indexer))"
   ]
  },
  {
   "cell_type": "code",
   "execution_count": 36,
   "id": "bb9dc932",
   "metadata": {},
   "outputs": [],
   "source": [
    "# Pipeline을 이용해 stage에다가 실행 과정 담아 넘기기\n",
    "pipeline = Pipeline(stages=indexer)\n",
    "df = pipeline.fit(df).transform(df)"
   ]
  },
  {
   "cell_type": "markdown",
   "id": "19defca5",
   "metadata": {},
   "source": [
    "# 5. 데이터 삭제 및 정리 -> 최종 Feature 벡터 변환"
   ]
  },
  {
   "cell_type": "code",
   "execution_count": 37,
   "id": "f4868d21",
   "metadata": {},
   "outputs": [
    {
     "name": "stdout",
     "output_type": "stream",
     "text": [
      "삭제 후 남은 칼럼들: ['Survived', 'Pclass', 'Age', 'SibSp', 'Parch', 'Fare', 'Family_Size', 'Alone', 'Sex_index', 'Embarked_index', 'Initial_index']\n"
     ]
    }
   ],
   "source": [
    "un_cols = [\"PassengerId\",\"Name\",\"Ticket\",\"Cabin\",\"Embarked\",\"Sex\",\"Initial\"]\n",
    "\n",
    "df = df.drop(*un_cols)\n",
    "print(\"삭제 후 남은 칼럼들:\", df.columns)"
   ]
  },
  {
   "cell_type": "code",
   "execution_count": 38,
   "id": "6b093c35",
   "metadata": {},
   "outputs": [
    {
     "name": "stdout",
     "output_type": "stream",
     "text": [
      "feature type: <class 'pyspark.ml.feature.VectorAssembler'>\n",
      "feature_vector type <class 'pyspark.sql.dataframe.DataFrame'>\n"
     ]
    },
    {
     "data": {
      "text/html": [
       "<div>\n",
       "<style scoped>\n",
       "    .dataframe tbody tr th:only-of-type {\n",
       "        vertical-align: middle;\n",
       "    }\n",
       "\n",
       "    .dataframe tbody tr th {\n",
       "        vertical-align: top;\n",
       "    }\n",
       "\n",
       "    .dataframe thead th {\n",
       "        text-align: right;\n",
       "    }\n",
       "</style>\n",
       "<table border=\"1\" class=\"dataframe\">\n",
       "  <thead>\n",
       "    <tr style=\"text-align: right;\">\n",
       "      <th></th>\n",
       "      <th>Survived</th>\n",
       "      <th>Pclass</th>\n",
       "      <th>Age</th>\n",
       "      <th>SibSp</th>\n",
       "      <th>Parch</th>\n",
       "      <th>Fare</th>\n",
       "      <th>Family_Size</th>\n",
       "      <th>Alone</th>\n",
       "      <th>Sex_index</th>\n",
       "      <th>Embarked_index</th>\n",
       "      <th>Initial_index</th>\n",
       "      <th>features</th>\n",
       "    </tr>\n",
       "  </thead>\n",
       "  <tbody>\n",
       "    <tr>\n",
       "      <th>0</th>\n",
       "      <td>0</td>\n",
       "      <td>3</td>\n",
       "      <td>22.0</td>\n",
       "      <td>1</td>\n",
       "      <td>0</td>\n",
       "      <td>7.2500</td>\n",
       "      <td>1</td>\n",
       "      <td>0</td>\n",
       "      <td>0.0</td>\n",
       "      <td>0.0</td>\n",
       "      <td>0.0</td>\n",
       "      <td>(3.0, 22.0, 1.0, 0.0, 7.25, 1.0, 0.0, 0.0, 0.0...</td>\n",
       "    </tr>\n",
       "    <tr>\n",
       "      <th>1</th>\n",
       "      <td>1</td>\n",
       "      <td>1</td>\n",
       "      <td>38.0</td>\n",
       "      <td>1</td>\n",
       "      <td>0</td>\n",
       "      <td>71.2833</td>\n",
       "      <td>1</td>\n",
       "      <td>0</td>\n",
       "      <td>1.0</td>\n",
       "      <td>1.0</td>\n",
       "      <td>2.0</td>\n",
       "      <td>[1.0, 38.0, 1.0, 0.0, 71.2833, 1.0, 0.0, 1.0, ...</td>\n",
       "    </tr>\n",
       "    <tr>\n",
       "      <th>2</th>\n",
       "      <td>1</td>\n",
       "      <td>3</td>\n",
       "      <td>26.0</td>\n",
       "      <td>0</td>\n",
       "      <td>0</td>\n",
       "      <td>7.9250</td>\n",
       "      <td>0</td>\n",
       "      <td>1</td>\n",
       "      <td>1.0</td>\n",
       "      <td>0.0</td>\n",
       "      <td>1.0</td>\n",
       "      <td>[3.0, 26.0, 0.0, 0.0, 7.925, 0.0, 1.0, 1.0, 0....</td>\n",
       "    </tr>\n",
       "  </tbody>\n",
       "</table>\n",
       "</div>"
      ],
      "text/plain": [
       "   Survived  Pclass   Age  SibSp  Parch     Fare  Family_Size  Alone  \\\n",
       "0         0       3  22.0      1      0   7.2500            1      0   \n",
       "1         1       1  38.0      1      0  71.2833            1      0   \n",
       "2         1       3  26.0      0      0   7.9250            0      1   \n",
       "\n",
       "   Sex_index  Embarked_index  Initial_index  \\\n",
       "0        0.0             0.0            0.0   \n",
       "1        1.0             1.0            2.0   \n",
       "2        1.0             0.0            1.0   \n",
       "\n",
       "                                            features  \n",
       "0  (3.0, 22.0, 1.0, 0.0, 7.25, 1.0, 0.0, 0.0, 0.0...  \n",
       "1  [1.0, 38.0, 1.0, 0.0, 71.2833, 1.0, 0.0, 1.0, ...  \n",
       "2  [3.0, 26.0, 0.0, 0.0, 7.925, 0.0, 1.0, 1.0, 0....  "
      ]
     },
     "execution_count": 38,
     "metadata": {},
     "output_type": "execute_result"
    }
   ],
   "source": [
    "feature = VectorAssembler(inputCols = df.columns[1:],\n",
    "                         outputCol='features')\n",
    "feature_vector = feature.transform(df) # 데이터프레임 형태로 반환\n",
    "print('feature type:', type(feature))\n",
    "print('feature_vector type', type(feature_vector))\n",
    "\n",
    "feature_vector.limit(3).toPandas()"
   ]
  },
  {
   "cell_type": "markdown",
   "id": "111c7d2f",
   "metadata": {},
   "source": [
    "# 6. 데이터 분할 (학습, 테스트용)"
   ]
  },
  {
   "cell_type": "code",
   "execution_count": 40,
   "id": "1521b904",
   "metadata": {},
   "outputs": [],
   "source": [
    "titanic_df = feature_vector.select(['features', 'Survived'])\n",
    "\n",
    "# split train, test\n",
    "(train_df, test_df) = titanic_df.randomSplit([0.8, 0.2], seed=42)"
   ]
  },
  {
   "cell_type": "markdown",
   "id": "8149e512",
   "metadata": {},
   "source": [
    "# 7. 머신러닝 분류 모델 만들기"
   ]
  },
  {
   "cell_type": "code",
   "execution_count": 41,
   "id": "f0a44362",
   "metadata": {},
   "outputs": [
    {
     "name": "stdout",
     "output_type": "stream",
     "text": [
      "Accuracy: 0.7724137931034483\n",
      "Precision: 0.7807706802336538\n"
     ]
    }
   ],
   "source": [
    "# 분류 모델 \n",
    "from pyspark.ml.classification import LogisticRegression\n",
    "# 파라미터 튜닝 & 교차 검증\n",
    "from pyspark.ml.tuning import ParamGridBuilder, TrainValidationSplit\n",
    "from pyspark.ml.tuning import CrossValidator\n",
    "# 파이프라인\n",
    "from pyspark.ml import Pipeline\n",
    "# 메트릭 얻는 라이브러리\n",
    "from pyspark.ml.evaluation import BinaryClassificationEvaluator\n",
    "# ROC AUC(Sklearn)\n",
    "from sklearn.metrics import roc_curve, auc\n",
    "\n",
    "\n",
    "# 모델 정의\n",
    "lr = LogisticRegression(labelCol='Survived')\n",
    "\n",
    "# 튜닝할 파라미터 grid 정의\n",
    "                                    # model.parameter 식으로 정의\n",
    "paramGrid = ParamGridBuilder().addGrid(lr.regParam,\n",
    "                                      (0.01, 0.1))\\\n",
    "                              .addGrid(lr.maxIter,\n",
    "                                      (5, 10))\\\n",
    "                              .addGrid(lr.tol,\n",
    "                                      (1e-4, 1e-5))\\\n",
    "                              .addGrid(lr.elasticNetParam,\n",
    "                                      (0.25, 0.75))\\\n",
    "                              .build()\n",
    "\n",
    "# 교차검증 정의 - Pipeline식으로 정의\n",
    "tvs = TrainValidationSplit(estimator=lr,\n",
    "                          estimatorParamMaps=paramGrid,\n",
    "                          evaluator=MulticlassClassificationEvaluator(labelCol='Survived'),\n",
    "                          trainRatio=0.8)\n",
    "# 학습은 fit으로!\n",
    "model = tvs.fit(train_df)\n",
    "# 평가는 transform으로!\n",
    "model_prediction = model.transform(test_df)\n",
    "\n",
    "# 메트릭 평가\n",
    "print('Accuracy:',\n",
    "     MulticlassClassificationEvaluator(labelCol='Survived',\n",
    "                                      metricName='accuracy').evaluate(model_prediction))\n",
    "print('Precision:',\n",
    "     MulticlassClassificationEvaluator(labelCol='Survived',\n",
    "                                      metricName='weightedPrecision').evaluate(model_prediction))"
   ]
  },
  {
   "cell_type": "code",
   "execution_count": 42,
   "id": "1ebcf5ac",
   "metadata": {},
   "outputs": [
    {
     "name": "stdout",
     "output_type": "stream",
     "text": [
      "+--------------------+--------+--------------------+--------------------+----------+\n",
      "|            features|Survived|       rawPrediction|         probability|prediction|\n",
      "+--------------------+--------+--------------------+--------------------+----------+\n",
      "|(10,[0,1,2,4,5],[...|       0|[0.17409014108672...|[0.54341294623747...|       0.0|\n",
      "|(10,[0,1,2,4,5],[...|       0|[0.44322077274478...|[0.60902620825810...|       0.0|\n",
      "|(10,[0,1,2,4,5],[...|       0|[0.57729065390143...|[0.64044374785207...|       0.0|\n",
      "|(10,[0,1,2,4,5],[...|       0|[0.76547005051275...|[0.68254016104816...|       0.0|\n",
      "|(10,[0,1,2,4,5],[...|       0|[1.32248213192038...|[0.78959437217300...|       0.0|\n",
      "|(10,[0,1,2,4,5],[...|       0|[1.45143440626374...|[0.81021909234478...|       0.0|\n",
      "|(10,[0,1,2,4,5],[...|       0|[2.01412161924857...|[0.88227180261759...|       0.0|\n",
      "|(10,[0,1,2,4,5],[...|       0|[2.21709183002428...|[0.90177389740750...|       0.0|\n",
      "|(10,[0,1,2,4,5],[...|       0|[2.38468449013664...|[0.91565193885375...|       0.0|\n",
      "|(10,[0,1,2,4,5],[...|       0|[2.36669517171392...|[0.91425213242993...|       0.0|\n",
      "+--------------------+--------+--------------------+--------------------+----------+\n",
      "only showing top 10 rows\n",
      "\n"
     ]
    }
   ],
   "source": [
    "model_prediction.show(10)"
   ]
  },
  {
   "cell_type": "markdown",
   "id": "3ca0d196",
   "metadata": {},
   "source": [
    "# 8. ROC Curve 시각화 & AUC Score 계산"
   ]
  },
  {
   "cell_type": "code",
   "execution_count": 44,
   "id": "4cd05ae7",
   "metadata": {},
   "outputs": [
    {
     "name": "stdout",
     "output_type": "stream",
     "text": [
      "Row(probability=DenseVector([0.5434, 0.4566]), Survived=0)\n",
      "\n",
      "probability: [0.5434129462374723,0.45658705376252773]\n",
      "Survived: 0\n"
     ]
    }
   ],
   "source": [
    "# Evaluate ROC metric\n",
    "from pyspark.mllib.evaluation import BinaryClassificationMetrics as metric\n",
    "from pyspark import SparkContext\n",
    "\n",
    "# SparkContext를 만들기\n",
    "sc = SparkContext.getOrCreate()\n",
    "\n",
    "# ROC 점수인 AUC를 계산 위해 Logistic를 적용해 나온 확률값과 레이블만 가져오기\n",
    "results = model_prediction.select(['probability', 'Survived'])\n",
    "\n",
    "# 확률값 - 레이블 set 준비시키기\n",
    "# collect()로 모든 데이터 row retrieve(반환) - 리스트 형태로 반환\n",
    "results_collect = results.collect()\n",
    "\n",
    "# named tuple 형식이기 때문에 key 값으로 원하는 값을 불러올 수 있다!\n",
    "print(results_collect[0])\n",
    "print()\n",
    "print('probability:', results_collect[0].probability)\n",
    "print('Survived:', results_collect[0].Survived)"
   ]
  },
  {
   "cell_type": "code",
   "execution_count": 50,
   "id": "c0334a8d",
   "metadata": {},
   "outputs": [
    {
     "name": "stderr",
     "output_type": "stream",
     "text": [
      "Exception ignored in: <function JavaModelWrapper.__del__ at 0x000001885AB30550>\n",
      "Traceback (most recent call last):\n",
      "  File \"C:\\Users\\REDTABLE\\Anaconda3\\lib\\site-packages\\pyspark\\mllib\\common.py\", line 152, in __del__\n",
      "    assert self._sc._gateway is not None\n",
      "AttributeError: 'BinaryClassificationMetrics' object has no attribute '_sc'\n"
     ]
    },
    {
     "data": {
      "image/png": "[encoded data removed]",
      "text/plain": [
       "<Figure size 432x288 with 1 Axes>"
      ]
     },
     "metadata": {
      "needs_background": "light"
     },
     "output_type": "display_data"
    }
   ],
   "source": [
    "# Evaluate ROC metric\n",
    "from pyspark.mllib.evaluation import BinaryClassificationMetrics as metric\n",
    "from pyspark import SparkContext\n",
    "\n",
    "# SparkContext를 만들기\n",
    "sc = SparkContext.getOrCreate()\n",
    "\n",
    "# ROC 점수인 AUC를 계산 위해 Logistic를 적용해 나온 확률값과 레이블만 가져오기\n",
    "results = model_prediction.select(['probability', 'Survived'])\n",
    "\n",
    "# 확률값 - 레이블 set 준비시키기\n",
    "# collect()로 모든 데이터 row retrieve(반환) - 리스트 형태로 반환\n",
    "results_collect = results.collect()\n",
    "results_list = [(float(i.probability[1]),\n",
    "                 float(i.Survived)) for i in results_collect]\n",
    "# 여러개의 튜플이 담긴 list를 RDD 자료구조로 변경\n",
    "scoreAndLabels = sc.parallelize(results_list)\n",
    "# ROC metric 계산하기\n",
    "    #metrics = metric(scoreAndLabels)\n",
    "    #auc = metrics.areaUnderROC\n",
    "\n",
    "# Visualize ROC Curve\n",
    "from sklearn.metrics import roc_curve, auc\n",
    "\n",
    "# roc_curve 는 실제값, 1로의 예측확률값을 인자로 넣어주면 FPR, TPR, 임곗값을 반환해줌\n",
    "fpr = []\n",
    "tpr = []\n",
    "roc_auc = []\n",
    "\n",
    "y_test = [i[1] for i in results_list]\n",
    "y_proba = [i[0] for i in results_list]\n",
    "\n",
    "fpr, tpr, _ = roc_curve(y_test, y_proba)\n",
    "roc_auc = auc(fpr, tpr)\n",
    "\n",
    "plt.figure()\n",
    "# x축엔 Fall-out(FPR), y축엔 Recall(TPR)\n",
    "plt.plot(fpr, tpr, label='ROC Curve (area = %0.2f)' % roc_auc)\n",
    "plt.plot([0, 1], [0, 1], 'k--')\n",
    "plt.xlabel('False Positive Rate')\n",
    "plt.ylabel('True Positive Rate')\n",
    "plt.title(\"Area under the ROC Curve\")\n",
    "plt.legend(loc='lower right')\n",
    "plt.show()"
   ]
  },
  {
   "cell_type": "code",
   "execution_count": null,
   "id": "83132414",
   "metadata": {},
   "outputs": [],
   "source": []
  }
 ],
 "metadata": {
  "kernelspec": {
   "display_name": "Python 3",
   "language": "python",
   "name": "python3"
  },
  "language_info": {
   "codemirror_mode": {
    "name": "ipython",
    "version": 3
   },
   "file_extension": ".py",
   "mimetype": "text/x-python",
   "name": "python",
   "nbconvert_exporter": "python",
   "pygments_lexer": "ipython3",
   "version": "3.8.8"
  }
 },
 "nbformat": 4,
 "nbformat_minor": 5
}
