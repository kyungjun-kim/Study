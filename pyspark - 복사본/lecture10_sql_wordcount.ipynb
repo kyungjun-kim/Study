{
 "cells": [
  {
   "cell_type": "code",
   "execution_count": 15,
   "id": "47107a12-627b-42be-8ab2-e2d1d5a8031f",
   "metadata": {},
   "outputs": [
    {
     "name": "stdout",
     "output_type": "stream",
     "text": [
      "+----------+-----+\n",
      "|      word|count|\n",
      "+----------+-----+\n",
      "|       the|    6|\n",
      "|        of|    4|\n",
      "|     Lorem|    4|\n",
      "|       and|    3|\n",
      "|     Ipsum|    3|\n",
      "|        It|    2|\n",
      "|     dummy|    2|\n",
      "|         a|    2|\n",
      "|       has|    2|\n",
      "|      with|    2|\n",
      "|      type|    2|\n",
      "|      text|    2|\n",
      "|publishing|    1|\n",
      "|   desktop|    1|\n",
      "|unchanged.|    1|\n",
      "|       not|    1|\n",
      "|    Ipsum.|    1|\n",
      "|    sheets|    1|\n",
      "|     1960s|    1|\n",
      "|     book.|    1|\n",
      "+----------+-----+\n",
      "only showing top 20 rows\n",
      "\n"
     ]
    }
   ],
   "source": [
    "from pyspark.sql import (\n",
    "    functions,\n",
    "    Row,\n",
    "    SparkSession\n",
    ")\n",
    "\n",
    "spark = SparkSession.builder.appName(\"df_wordcount\").getOrCreate()\n",
    "\n",
    "# # functions.explode(col)\n",
    "# # Returns a new row for each element in the given array or map\n",
    "# df = spark.createDataFrame([\n",
    "#         Row(a=1,\n",
    "#             intlist=[1,2,3],\n",
    "#             mapfield={\"a\": \"b\"}\n",
    "#            )])\n",
    "\n",
    "# df.select(functions.explode(df.intlist).alias(\"anInt\")).collect()\n",
    "# # output: [Row(anInt=1), Row(anInt=2), Row(anInt=3)]\n",
    "\n",
    "\n",
    "# # functions.split(str, pattern, limit=-1)\n",
    "# # Splits str around matches of the given pattern.\n",
    "# df = spark.createDataFrame([\n",
    "#         Row(word=\"hello world and pyspark\")])\n",
    "# df.select(functions.split(df.word, ' ').alias(\"word\")).collect()\n",
    "\n",
    "\n",
    "csv_file_path = \"file:///home/jovyan/work/sample/lorem_ipsum.txt\"\n",
    "df = spark.read.text(csv_file_path)\n",
    "\n",
    "# # save as \"value\"\n",
    "# df.show()\n",
    "\n",
    "words = df.select(\n",
    "    functions.explode(\n",
    "        functions.split(df.value, ' ')).alias(\"word\"))\n",
    "# words.show()\n",
    "word_counts = words.groupBy(\"word\").count().orderBy(functions.col(\"count\").desc())\n",
    "# \n",
    "word_counts.show()"
   ]
  }
 ],
 "metadata": {
  "kernelspec": {
   "display_name": "Python 3 (ipykernel)",
   "language": "python",
   "name": "python3"
  },
  "language_info": {
   "codemirror_mode": {
    "name": "ipython",
    "version": 3
   },
   "file_extension": ".py",
   "mimetype": "text/x-python",
   "name": "python",
   "nbconvert_exporter": "python",
   "pygments_lexer": "ipython3",
   "version": "3.10.8"
  },
  "vscode": {
   "interpreter": {
    "hash": "aee8b7b246df8f9039afb4144a1f6fd8d2ca17a180786b69acc140d282b71a49"
   }
  }
 },
 "nbformat": 4,
 "nbformat_minor": 5
}
