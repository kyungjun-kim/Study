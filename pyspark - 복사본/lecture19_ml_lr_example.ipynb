{
 "cells": [
  {
   "cell_type": "code",
   "execution_count": 1,
   "id": "9bbfdbe3-866d-40ed-b19b-0235ed8f9b0a",
   "metadata": {},
   "outputs": [
    {
     "name": "stdout",
     "output_type": "stream",
     "text": [
      "root\n",
      " |-- name: string (nullable = true)\n",
      " |-- avg_session: double (nullable = true)\n",
      " |-- time_on_app: double (nullable = true)\n",
      " |-- time_on_website: double (nullable = true)\n",
      " |-- membership_period: double (nullable = true)\n",
      " |-- year_spent: double (nullable = true)\n",
      "\n"
     ]
    }
   ],
   "source": [
    "from pyspark.sql import (\n",
    "    functions as f,\n",
    "    SparkSession,\n",
    "    types as t\n",
    ")\n",
    "from pyspark.ml.regression import LinearRegression\n",
    "from pyspark.ml.linalg import Vectors\n",
    "from pyspark.ml.feature import VectorAssembler\n",
    "\n",
    "spark = SparkSession.builder.appName(\"ml_lr_example\").getOrCreate()\n",
    "df = spark.read.csv(\n",
    "        \"file:///home/jovyan/work/sample/ecommerce_customers.csv\",\n",
    "        inferSchema=True,\n",
    "        header=True)\n",
    "# schema\n",
    "df.printSchema()"
   ]
  },
  {
   "cell_type": "code",
   "execution_count": 3,
   "id": "593afbe5-908b-49dc-b179-a33bab1ce7fb",
   "metadata": {},
   "outputs": [
    {
     "data": {
      "text/plain": [
       "[Row(name='Ebonie Watson', avg_session=41.39672127013476, time_on_app=12.529094637675133, time_on_website=51.45096842538406, membership_period=4.08272063295296, year_spent=652.6256699049252)]"
      ]
     },
     "execution_count": 3,
     "metadata": {},
     "output_type": "execute_result"
    }
   ],
   "source": [
    "# show the first one\n",
    "df.head(1)"
   ]
  },
  {
   "cell_type": "code",
   "execution_count": 4,
   "id": "adef1aa8-1449-4d1d-8d4d-a18a6e8463fc",
   "metadata": {},
   "outputs": [
    {
     "data": {
      "text/plain": [
       "['name',\n",
       " 'avg_session',\n",
       " 'time_on_app',\n",
       " 'time_on_website',\n",
       " 'membership_period',\n",
       " 'year_spent']"
      ]
     },
     "execution_count": 4,
     "metadata": {},
     "output_type": "execute_result"
    }
   ],
   "source": [
    "# get columns\n",
    "df.columns"
   ]
  },
  {
   "cell_type": "code",
   "execution_count": 5,
   "id": "52775f0b-4688-4244-aade-7017ac0d6b3a",
   "metadata": {},
   "outputs": [
    {
     "name": "stdout",
     "output_type": "stream",
     "text": [
      "root\n",
      " |-- name: string (nullable = true)\n",
      " |-- avg_session: double (nullable = true)\n",
      " |-- time_on_app: double (nullable = true)\n",
      " |-- time_on_website: double (nullable = true)\n",
      " |-- membership_period: double (nullable = true)\n",
      " |-- year_spent: double (nullable = true)\n",
      " |-- feature_vectors: vector (nullable = true)\n",
      "\n"
     ]
    }
   ],
   "source": [
    "# pyspark.ml.feature.VectorAssembler(*, inputCols=None, outputCol=None, handleInvalid='error'\n",
    "# A feature transformer that merges multiple columns into a vector column\n",
    "asbl = VectorAssembler(\n",
    "        inputCols=[\n",
    "        'avg_session',\n",
    "         'time_on_app',\n",
    "         'time_on_website',\n",
    "         'membership_period'],\n",
    "        outputCol='feature_vectors')\n",
    "\n",
    "# apply the transform\n",
    "tr_data = asbl.transform(df)\n",
    "\n",
    "# check the new column\n",
    "tr_data.printSchema()"
   ]
  },
  {
   "cell_type": "code",
   "execution_count": 6,
   "id": "de6d178b-045d-469f-a58b-5d0125fdd6e9",
   "metadata": {},
   "outputs": [
    {
     "name": "stdout",
     "output_type": "stream",
     "text": [
      "+--------------------+------------------+\n",
      "|     feature_vectors|        year_spent|\n",
      "+--------------------+------------------+\n",
      "|[41.3967212701347...| 652.6256699049252|\n",
      "|[38.3115264316322...| 435.3474761232019|\n",
      "|[39.6010977067712...|  541.177730402894|\n",
      "|[41.1666679557066...| 645.8561018790921|\n",
      "|[39.9968070283756...|  665.340762170797|\n",
      "|[40.6452454552103...| 707.1837171857322|\n",
      "|[38.4259146016643...| 578.9451139811881|\n",
      "|[39.2869715260563...| 610.3936021768764|\n",
      "|[40.7853274748227...| 743.9224539496183|\n",
      "|[38.3238583421386...| 474.1913172338142|\n",
      "|[40.7910873299444...| 546.7926741169767|\n",
      "|[40.655232989766,...|  690.794519113699|\n",
      "|[35.4389147604694...| 453.5907896906171|\n",
      "|[39.8284008524672...| 636.4916127378395|\n",
      "|[38.8655710237846...| 522.2025339640601|\n",
      "|[36.8852644471538...| 512.5766238378153|\n",
      "|[38.5504642767453...| 508.2109424988935|\n",
      "|[38.8066791876806...|452.55204777999387|\n",
      "|[38.6253744551186...| 502.0703997828389|\n",
      "|[39.1414272753881...| 671.6177530734301|\n",
      "+--------------------+------------------+\n",
      "only showing top 20 rows\n",
      "\n"
     ]
    }
   ],
   "source": [
    "data = tr_data.select('feature_vectors', 'year_spent')\n",
    "data.show()"
   ]
  },
  {
   "cell_type": "code",
   "execution_count": 7,
   "id": "6ee2b520-6883-405a-bd10-fc639be0db14",
   "metadata": {},
   "outputs": [
    {
     "name": "stdout",
     "output_type": "stream",
     "text": [
      "+-------+-----------------+\n",
      "|summary|       year_spent|\n",
      "+-------+-----------------+\n",
      "|  count|              346|\n",
      "|   mean|554.3986963565693|\n",
      "| stddev|91.62718547620463|\n",
      "|    min|284.9043463419622|\n",
      "|    max|849.7254927521092|\n",
      "+-------+-----------------+\n",
      "\n",
      "+-------+-----------------+\n",
      "|summary|       year_spent|\n",
      "+-------+-----------------+\n",
      "|  count|              154|\n",
      "|   mean|555.3204045074345|\n",
      "| stddev|81.60362313180785|\n",
      "|    min|331.6258287266069|\n",
      "|    max|778.0179716953096|\n",
      "+-------+-----------------+\n",
      "\n"
     ]
    }
   ],
   "source": [
    "# split\n",
    "train, test = data.randomSplit([0.7, 0.3])\n",
    "\n",
    "# confirm the count\n",
    "train.describe().show()\n",
    "test.describe().show()"
   ]
  },
  {
   "cell_type": "code",
   "execution_count": 8,
   "id": "3058f7af-0622-4f5c-8df7-a1c3c9cf16b7",
   "metadata": {},
   "outputs": [
    {
     "name": "stdout",
     "output_type": "stream",
     "text": [
      "+-------------------+\n",
      "|          residuals|\n",
      "+-------------------+\n",
      "|-13.018712198954631|\n",
      "| -6.273895306160512|\n",
      "|-13.895159855309828|\n",
      "|  25.41519924586987|\n",
      "| -5.924419421945572|\n",
      "|-11.548280546710828|\n",
      "|-19.606939837567893|\n",
      "| 19.868344484138674|\n",
      "|  18.60848989422425|\n",
      "|-29.554095237940146|\n",
      "|-2.6094229988851225|\n",
      "| -7.035579759902021|\n",
      "|-21.026505644483336|\n",
      "|  9.351672542600795|\n",
      "|-3.1846417275947942|\n",
      "|  14.10572862552442|\n",
      "| -6.417188481901064|\n",
      "|  -9.72666752549344|\n",
      "|0.36346898319277443|\n",
      "| 23.539713334448038|\n",
      "+-------------------+\n",
      "only showing top 20 rows\n",
      "\n"
     ]
    }
   ],
   "source": [
    "lr = LinearRegression(\n",
    "    featuresCol='feature_vectors',\n",
    "    labelCol='year_spent')\n",
    "\n",
    "# build a model\n",
    "lr_model = lr.fit(train)\n",
    "\n",
    "test_output = lr_model.evaluate(test)\n",
    "\n",
    "# diff btw actual vs. prediction\n",
    "test_output.residuals.show()"
   ]
  },
  {
   "cell_type": "code",
   "execution_count": 9,
   "id": "72bedc9d-f8de-4ecb-ab5c-64389d2f1f72",
   "metadata": {},
   "outputs": [
    {
     "name": "stdout",
     "output_type": "stream",
     "text": [
      "14.566620376625236\n"
     ]
    }
   ],
   "source": [
    "print(test_output.rootMeanSquaredError)"
   ]
  },
  {
   "cell_type": "code",
   "execution_count": 10,
   "id": "179f0224-7ac5-43f0-860a-2391ef0c8cd2",
   "metadata": {},
   "outputs": [
    {
     "name": "stdout",
     "output_type": "stream",
     "text": [
      "0.9679278546593447\n"
     ]
    }
   ],
   "source": [
    "print(test_output.r2)"
   ]
  },
  {
   "cell_type": "code",
   "execution_count": 11,
   "id": "4e7cc566-883a-46bf-97ce-80f2696c24b6",
   "metadata": {},
   "outputs": [
    {
     "name": "stdout",
     "output_type": "stream",
     "text": [
      "+-------+-----------------+\n",
      "|summary|       year_spent|\n",
      "+-------+-----------------+\n",
      "|  count|              500|\n",
      "|   mean| 554.682582467036|\n",
      "| stddev|88.58045911052957|\n",
      "|    min|284.9043463419622|\n",
      "|    max|849.7254927521092|\n",
      "+-------+-----------------+\n",
      "\n"
     ]
    }
   ],
   "source": [
    "data.describe().show()"
   ]
  },
  {
   "cell_type": "code",
   "execution_count": 12,
   "id": "c477eb4b-3c4b-4dd0-a03b-3e07bd27f80b",
   "metadata": {},
   "outputs": [
    {
     "name": "stdout",
     "output_type": "stream",
     "text": [
      "+--------------------+------------------+------------------+\n",
      "|     feature_vectors|        year_spent|        prediction|\n",
      "+--------------------+------------------+------------------+\n",
      "|[36.4718214508146...|355.12104548154537|    368.1397576805|\n",
      "|[37.2735901880593...| 541.1865584442712| 547.4604537504317|\n",
      "|[37.2794617939651...| 498.3159554605182|  512.211115315828|\n",
      "|[37.5401369712698...| 656.8770092624916| 631.4618100166217|\n",
      "|[37.8309029003618...| 492.8018457589691|498.72626518091465|\n",
      "|[37.8314374778877...| 454.0949240734952|  465.643204620206|\n",
      "|[37.8842409951843...| 605.9994962769596| 625.6064361145275|\n",
      "|[37.9206146403639...| 531.8818651551177|  512.013520670979|\n",
      "|[37.9318074880675...|493.44556011272994| 474.8370702185057|\n",
      "|[38.00869860393,1...|  528.054825379968| 557.6089206179081|\n",
      "|[38.0659828326108...|386.03238856137904|388.64181156026416|\n",
      "|[38.0690430286142...| 558.7605548896368| 565.7961346495388|\n",
      "|[38.1797140010391...| 556.2459655690583| 577.2724712135416|\n",
      "|[38.2215037543300...| 525.0213938001458|  515.669721257545|\n",
      "|[38.2352893308001...| 617.4909367031922|  620.675578430787|\n",
      "|[38.2915521930272...| 625.4250995972953| 611.3193709717709|\n",
      "|[38.3607851374588...| 494.7823237760138| 501.1995122579149|\n",
      "|[38.4102054214261...| 491.9489153419181|501.67558286741155|\n",
      "|[38.4533833529284...| 497.5351103970705|497.17164141387775|\n",
      "|[38.4598072685487...| 531.3784861303787| 507.8387727959307|\n",
      "+--------------------+------------------+------------------+\n",
      "only showing top 20 rows\n",
      "\n"
     ]
    }
   ],
   "source": [
    "predictions = lr_model.transform(test)\n",
    "predictions.show()"
   ]
  }
 ],
 "metadata": {
  "kernelspec": {
   "display_name": "Python 3 (ipykernel)",
   "language": "python",
   "name": "python3"
  },
  "language_info": {
   "codemirror_mode": {
    "name": "ipython",
    "version": 3
   },
   "file_extension": ".py",
   "mimetype": "text/x-python",
   "name": "python",
   "nbconvert_exporter": "python",
   "pygments_lexer": "ipython3",
   "version": "3.10.8"
  }
 },
 "nbformat": 4,
 "nbformat_minor": 5
}
