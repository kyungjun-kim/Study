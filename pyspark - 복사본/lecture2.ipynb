{
 "cells": [
  {
   "cell_type": "code",
   "execution_count": 2,
   "id": "3f67571f-d0d2-4496-ae0a-409d3de670f0",
   "metadata": {},
   "outputs": [
    {
     "name": "stdout",
     "output_type": "stream",
     "text": [
      "[('hello', 6), ('world', 6)]\n"
     ]
    }
   ],
   "source": [
    "import pyspark\n",
    "\n",
    "test_file = \"file:///home/jovyan/work/sample/word.txt\"\n",
    "# sc = pyspark.SparkContext('local[*]')\n",
    "sc = pyspark.SparkContext.getOrCreate()\n",
    "\n",
    "text_file = sc.textFile(test_file)\n",
    "\n",
    "counts = text_file.f latMap(lambda line: line.split(\" \")) \\\n",
    "             .map(lambda word: (word, 1)) \\\n",
    "             .reduceByKey(lambda a, b: a + b)\n",
    "# ln1: hello,world\n",
    "# (hello, 1), (world, 1), (hello, 1) => [(hello, 1), (hello, 1)], [(world, 1)]\n",
    "print(counts.collect())"
   ]
  },
  {
   "cell_type": "code",
   "execution_count": null,
   "id": "a6f4893a-7f79-408f-bd0c-dbf69349a77e",
   "metadata": {},
   "outputs": [],
   "source": [
    "for datum in counts.collect():\n",
    "    print(datum)"
   ]
  },
  {
   "cell_type": "code",
   "execution_count": 24,
   "id": "5fc16231-199e-4a78-a9c7-145e850d385c",
   "metadata": {},
   "outputs": [
    {
     "name": "stdout",
     "output_type": "stream",
     "text": [
      "['hello', 'world', 'hello', 'world', 'hello', 'world', 'hello', 'world', 'hello', 'world', 'hello', 'world']\n"
     ]
    }
   ],
   "source": [
    "counts = text_file.flatMap(lambda line: line.split(\" \"))\n",
    "print(counts.collect())"
   ]
  },
  {
   "cell_type": "code",
   "execution_count": 22,
   "id": "93356919-ca64-4c46-904e-c9a2d67fced5",
   "metadata": {},
   "outputs": [
    {
     "name": "stdout",
     "output_type": "stream",
     "text": [
      "[('hello', 1), ('world', 1), ('hello', 1), ('world', 1), ('hello', 1), ('world', 1), ('hello', 1), ('world', 1), ('hello', 1), ('world', 1), ('hello', 1), ('world', 1)]\n"
     ]
    }
   ],
   "source": [
    "pair = counts.map(lambda word: (word, 1))\n",
    "print(pair.collect())"
   ]
  },
  {
   "cell_type": "code",
   "execution_count": 23,
   "id": "d212c33d-aa3c-45ca-8bfb-c7730c2ef5a5",
   "metadata": {},
   "outputs": [
    {
     "name": "stdout",
     "output_type": "stream",
     "text": [
      "[('hello', 6), ('world', 6)]\n"
     ]
    }
   ],
   "source": [
    "rbk = pair.reduceByKey(lambda a, b : a + b )\n",
    "print(rbk.collect())"
   ]
  },
  {
   "cell_type": "code",
   "execution_count": null,
   "id": "a26ca04d-ddff-4eed-9128-e514daf1f3b3",
   "metadata": {},
   "outputs": [],
   "source": []
  }
 ],
 "metadata": {
  "kernelspec": {
   "display_name": "Python 3 (ipykernel)",
   "language": "python",
   "name": "python3"
  },
  "language_info": {
   "codemirror_mode": {
    "name": "ipython",
    "version": 3
   },
   "file_extension": ".py",
   "mimetype": "text/x-python",
   "name": "python",
   "nbconvert_exporter": "python",
   "pygments_lexer": "ipython3",
   "version": "3.11.6"
  },
  "vscode": {
   "interpreter": {
    "hash": "aee8b7b246df8f9039afb4144a1f6fd8d2ca17a180786b69acc140d282b71a49"
   }
  }
 },
 "nbformat": 4,
 "nbformat_minor": 5
}
