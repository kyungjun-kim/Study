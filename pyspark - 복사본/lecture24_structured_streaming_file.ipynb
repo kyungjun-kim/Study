{
 "cells": [
  {
   "cell_type": "code",
   "execution_count": null,
   "id": "d458b63d-1e0f-4422-931c-0a354fad00bd",
   "metadata": {},
   "outputs": [],
   "source": [
    "from pyspark.sql import SparkSession\n",
    "\n",
    "# generate the data\n",
    "# fakedata --format=ndjson --limit 10000 city domain event=event.action > streaming_sample/sample.json\n",
    "\n",
    "spark = SparkSession \\\n",
    "    .builder \\\n",
    "    .appName(\"StructuredStreamingSum\") \\\n",
    "    .config(\"spark.streaming.stopGracefullyOnShutdown\", \"true\") \\\n",
    "    .config(\"spark.sql.streaming.schemaInference\", \"true\") \\\n",
    "    .config(\"maxFilesPerTrigger\", 1) \\\n",
    "    .getOrCreate()\n",
    "\n",
    "# Create DataFrame representing the stream of input lines from connection to localhost:9999\n",
    "df = spark \\\n",
    "    .readStream \\\n",
    "    .format(\"json\") \\\n",
    "    .option(\"path\", \"streaming_sample\") \\\n",
    "    .load()\n",
    "\n",
    "# df.printSchema()\n",
    "\n",
    "shorten_df = df.select(\"city\", \"event\")\n",
    "\n",
    "query = shorten_df \\\n",
    "            .writeStream \\\n",
    "            .format(\"json\") \\\n",
    "            .option(\"path\", \"streaming_output\") \\\n",
    "            .option(\"checkpointLocation\", \"checkpoint\") \\\n",
    "            .outputMode(\"append\") \\\n",
    "            .trigger(processingTime='5 seconds') \\\n",
    "            .start()\n",
    "\n",
    "query.awaitTermination()"
   ]
  },
  {
   "cell_type": "code",
   "execution_count": null,
   "id": "fcf258d8-4bd2-494c-a05d-ff60e28997d8",
   "metadata": {},
   "outputs": [],
   "source": []
  }
 ],
 "metadata": {
  "kernelspec": {
   "display_name": "Python 3 (ipykernel)",
   "language": "python",
   "name": "python3"
  },
  "language_info": {
   "codemirror_mode": {
    "name": "ipython",
    "version": 3
   },
   "file_extension": ".py",
   "mimetype": "text/x-python",
   "name": "python",
   "nbconvert_exporter": "python",
   "pygments_lexer": "ipython3",
   "version": "3.10.8"
  },
  "vscode": {
   "interpreter": {
    "hash": "aee8b7b246df8f9039afb4144a1f6fd8d2ca17a180786b69acc140d282b71a49"
   }
  }
 },
 "nbformat": 4,
 "nbformat_minor": 5
}
