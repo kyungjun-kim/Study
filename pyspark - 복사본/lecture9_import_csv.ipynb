{
 "cells": [
  {
   "cell_type": "code",
   "execution_count": 47,
   "id": "d0a9885d-0e99-4e34-9147-4ce9af39e10a",
   "metadata": {},
   "outputs": [
    {
     "name": "stdout",
     "output_type": "stream",
     "text": [
      "+--------------------+-------+\n",
      "|             country|avg_age|\n",
      "+--------------------+-------+\n",
      "|                Chad|  36.25|\n",
      "|            Paraguay|  47.78|\n",
      "|            Anguilla|   72.0|\n",
      "|               Macao|   72.0|\n",
      "|Heard Island and ...|   30.0|\n",
      "|             Senegal|   53.0|\n",
      "|              Sweden|  45.33|\n",
      "|             Tokelau|  34.17|\n",
      "|French Southern T...|  50.67|\n",
      "|            Kiribati|  48.67|\n",
      "|   Republic of Korea|  58.17|\n",
      "|              Guyana|   39.0|\n",
      "|             Eritrea|  39.75|\n",
      "|              Jersey|   58.8|\n",
      "|         Philippines|  48.33|\n",
      "|            Djibouti|   38.6|\n",
      "|               Tonga|   49.0|\n",
      "|      Norfolk Island|  35.33|\n",
      "|            Malaysia|  60.67|\n",
      "|           Singapore|   40.0|\n",
      "+--------------------+-------+\n",
      "only showing top 20 rows\n",
      "\n"
     ]
    }
   ],
   "source": [
    "from pyspark.sql import SparkSession\n",
    "from pyspark.sql.functions import (\n",
    "    avg,\n",
    "    col,\n",
    "    round as rnd\n",
    ")\n",
    "\n",
    "spark = SparkSession.builder.appName(\"sql_import_csv\").getOrCreate()\n",
    "csv_file_path = \"file:///home/jovyan/work/sample/age.csv\"\n",
    "\n",
    "# header option: either csv has header or not(default: header = false)\n",
    "# inferSchema: either all columns are str or not\n",
    "data = spark.read.option(\"header\", \"true\")\\\n",
    "            .option(\"inferSchema\", \"true\")\\\n",
    "            .csv(csv_file_path)\n",
    "# data = spark.read.option(\"header\", \"true\")\\\n",
    "#             .csv(csv_file_path)\n",
    "\n",
    "# # show schema\n",
    "# data.printSchema()\n",
    "\n",
    "# # show column name with data\n",
    "# data.select(\"name\", \"age\").show()\n",
    "\n",
    "# # filter the data for age of 20 above\n",
    "# data.filter(data.age > 20).show()\n",
    "\n",
    "# # group by age and aggregates for count\n",
    "# data.groupBy(\"age\").count().show()\n",
    "\n",
    "# # custom arithmetic\n",
    "# data.select(data.name, data.age, data.age - 10).show()\n",
    "\n",
    "# # column alias\n",
    "# data.select(data.name, col(\"age\").alias(\"age1\")).show()\n",
    "\n",
    "# # average\n",
    "# data.select(data.name, data.age, data.country)\\\n",
    "#         .groupBy(\"country\")\\\n",
    "#         .avg(\"age\").show()\n",
    "\n",
    "# # average & sort\n",
    "# data.select(data.name, data.age, data.country)\\\n",
    "#         .groupBy(\"country\")\\\n",
    "#         .avg(\"age\").sort(\"avg(age)\").show()\n",
    "\n",
    "# # average & round\n",
    "# data.select(data.name, data.age, data.country)\\\n",
    "#         .groupBy(\"country\")\\\n",
    "#         .agg(rnd(avg(\"age\"), 2).alias(\"avg_age\")).show()"
   ]
  },
  {
   "cell_type": "code",
   "execution_count": null,
   "id": "33702b81-f258-4139-bcf4-870ff50956f1",
   "metadata": {},
   "outputs": [],
   "source": []
  }
 ],
 "metadata": {
  "kernelspec": {
   "display_name": "Python 3.10.7 64-bit",
   "language": "python",
   "name": "python3"
  },
  "language_info": {
   "codemirror_mode": {
    "name": "ipython",
    "version": 3
   },
   "file_extension": ".py",
   "mimetype": "text/x-python",
   "name": "python",
   "nbconvert_exporter": "python",
   "pygments_lexer": "ipython3",
   "version": "3.10.7"
  },
  "vscode": {
   "interpreter": {
    "hash": "aee8b7b246df8f9039afb4144a1f6fd8d2ca17a180786b69acc140d282b71a49"
   }
  }
 },
 "nbformat": 4,
 "nbformat_minor": 5
}
