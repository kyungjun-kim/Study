{
 "cells": [
  {
   "cell_type": "code",
   "execution_count": 9,
   "id": "39ebc1b5-eb60-4876-ace9-dd81d70f0981",
   "metadata": {},
   "outputs": [
    {
     "name": "stdout",
     "output_type": "stream",
     "text": [
      "+-----------------+----+\n",
      "|    customer_name|cost|\n",
      "+-----------------+----+\n",
      "|     Damion Wolfe|1397|\n",
      "| Benedict Frazier| 998|\n",
      "|  Giuseppe Miller| 997|\n",
      "|    Garret Martin| 997|\n",
      "|Erminia Robertson| 997|\n",
      "|     Milan Gibson| 996|\n",
      "|     Rudy Wheeler| 994|\n",
      "|   Kathey Baldwin| 994|\n",
      "|   Williemae Bell| 992|\n",
      "|Gearldine Aguilar| 988|\n",
      "|      Jewel Parks| 987|\n",
      "|     Hyman Castro| 985|\n",
      "|    Noriko Medina| 984|\n",
      "|     Garfield Day| 982|\n",
      "|      Dacia Adams| 981|\n",
      "|     Taisha Henry| 980|\n",
      "|    Branda Valdez| 978|\n",
      "|     Fumiko Weber| 976|\n",
      "|Geraldo Alexander| 975|\n",
      "|      Walker Pope| 975|\n",
      "+-----------------+----+\n",
      "only showing top 20 rows\n",
      "\n"
     ]
    }
   ],
   "source": [
    "from pyspark.sql import (\n",
    "    functions as f,\n",
    "    SparkSession,\n",
    "    types as t\n",
    ")\n",
    "\n",
    "spark = SparkSession.builder.appName(\"df_total\").getOrCreate()\n",
    "table_schema = t.StructType([\n",
    "    t.StructField(\"customer_name\", t.StringType(), True),\n",
    "    t.StructField(\"product_id\", t.IntegerType(), True),\n",
    "    t.StructField(\"price\", t.IntegerType(), True)])\n",
    "\n",
    "csv_file_path = \"file:///home/jovyan/work/sample/product.csv\"\n",
    "df = spark.read.schema(table_schema).csv(csv_file_path)\n",
    "\n",
    "customer_spent = df.groupBy(\"customer_name\")\\\n",
    "                    .agg(\n",
    "                        f.round(\n",
    "                            f.sum(\"price\"),\n",
    "                            2\n",
    "                        ).alias(\"cost\"))\n",
    "                    \n",
    "# customer_spent.show()\n",
    "\n",
    "sorted_customer_spent = customer_spent.orderBy(f.col(\"cost\").desc())\n",
    "\n",
    "sorted_customer_spent.show()\n",
    "                                            "
   ]
  }
 ],
 "metadata": {
  "kernelspec": {
   "display_name": "Python 3 (ipykernel)",
   "language": "python",
   "name": "python3"
  },
  "language_info": {
   "codemirror_mode": {
    "name": "ipython",
    "version": 3
   },
   "file_extension": ".py",
   "mimetype": "text/x-python",
   "name": "python",
   "nbconvert_exporter": "python",
   "pygments_lexer": "ipython3",
   "version": "3.10.7"
  },
  "vscode": {
   "interpreter": {
    "hash": "aee8b7b246df8f9039afb4144a1f6fd8d2ca17a180786b69acc140d282b71a49"
   }
  }
 },
 "nbformat": 4,
 "nbformat_minor": 5
}
