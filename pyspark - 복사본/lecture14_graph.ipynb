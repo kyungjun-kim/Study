{
 "cells": [
  {
   "cell_type": "code",
   "execution_count": 41,
   "id": "bbcccbe1-2fd4-4db6-9dc0-4e934976f00f",
   "metadata": {},
   "outputs": [
    {
     "name": "stdout",
     "output_type": "stream",
     "text": [
      "+--------------------+--------------------+---------------+\n",
      "|                hero|          connection|connection_size|\n",
      "+--------------------+--------------------+---------------+\n",
      "|     CAPTAIN AMERICA|URICH, DORIS,ARMA...|           1795|\n",
      "|SPIDER-MAN/PETER PAR|RED SHIFT,GAMELIN...|           1737|\n",
      "| IRON MAN/TONY STARK|RED SHIFT,SABRETO...|           1443|\n",
      "|     WOLVERINE/LOGAN|SABRETOOTH/VICTOR...|           1278|\n",
      "|THING/BENJAMIN J. GR|CHORD, ANDREW,CAT...|           1262|\n",
      "| SCARLET WITCH/WANDA|SABRETOOTH/VICTOR...|           1246|\n",
      "|HUMAN TORCH/JOHNNY S|CAT KING,BUZZ,MAK...|           1202|\n",
      "|MR. FANTASTIC/REED R|ARMADILLO/ANTONIO...|           1200|\n",
      "|THOR/DR. DONALD BLAK|PARKER, MAY | TIM...|           1183|\n",
      "| INVISIBLE WOMAN/SUE|CAPTAIN MARVEL II...|           1143|\n",
      "|BEAST/HENRY &HANK& P|AMERICAN EAGLE II...|           1140|\n",
      "|              VISION|PHOSPHORUS,AMERIC...|           1110|\n",
      "|                HAWK|AMERICAN EAGLE II...|           1086|\n",
      "|CYCLOPS/SCOTT SUMMER|SABRETOOTH/VICTOR...|           1004|\n",
      "|HULK/DR. ROBERT BRUC|SABRETOOTH/VICTOR...|            978|\n",
      "|ANT-MAN/DR. HENRY J.|DEVEREAUX, MICHEL...|            953|\n",
      "|STORM/ORORO MUNROE S|SABRETOOTH/VICTOR...|            952|\n",
      "| DR. STRANGE/STEPHEN|AMERICAN EAGLE II...|            946|\n",
      "|COLOSSUS II/PETER RA|SABRETOOTH/VICTOR...|            944|\n",
      "| PROFESSOR X/CHARLES|SABRETOOTH/VICTOR...|            940|\n",
      "+--------------------+--------------------+---------------+\n",
      "only showing top 20 rows\n",
      "\n",
      "CAPTAIN AMERICA\n"
     ]
    }
   ],
   "source": [
    "from pyspark.sql import (\n",
    "    functions as f,\n",
    "    SparkSession,\n",
    "    types as t\n",
    ")\n",
    "\n",
    "# Attribution 3.0 Unported (CC BY 3.0)\n",
    "# https://www.kaggle.com/datasets/csanhueza/the-marvel-universe-social-network\n",
    "\n",
    "spark = SparkSession.builder.appName(\"df_most_popular\").getOrCreate()\n",
    "# csv_file_path = \"file:///home/jovyan/work/sample/hero-network.csv\"\n",
    "# # read file\n",
    "# df = spark.read\\\n",
    "#             .option(\"header\", \"true\")\\\n",
    "#             .option(\"inferSchema\", \"true\").csv(csv_file_path)\n",
    "\n",
    "# # pyspark.sql.functions.collect_set(col): Aggregate function: returns a set of objects with duplicate elements eliminated.\n",
    "# data = df.groupBy(\"hero1\")\\\n",
    "#             .agg(\n",
    "#                 f.collect_set(\"hero2\").alias(\"connection\"))\\\n",
    "#             .withColumnRenamed(\"hero1\", \"hero\")\n",
    "# # data.show()\n",
    "# # pyspark.sql.functions.concat_ws(sep, *cols): Concatenates multiple input string columns together into a single string column, using the given separator.\n",
    "# data = data.withColumn(\"connection\", f.concat_ws(\",\", f.col(\"connection\")))\n",
    "# data.show()\n",
    "\n",
    "# # DataFrame.coalesce(numPartitions): Returns a new DataFrame that has exactly numPartitions partitions.\n",
    "# data.coalesce(1).write.option(\"header\", True).csv(\"output\")\n",
    "\n",
    "# # load the file\n",
    "csv_file_path = \"file:///home/jovyan/work/output\"\n",
    "df = spark.read\\\n",
    "            .option(\"header\", \"true\")\\\n",
    "            .option(\"inferSchema\", \"true\")\\\n",
    "            .csv(csv_file_path)\n",
    "# df.show()\n",
    "\n",
    "# pyspark.sql.functions.size(col): Collection function: returns the length of the array or map stored in the column.\n",
    "df = df.withColumn(\n",
    "        \"connection_size\",\n",
    "        f.size(\n",
    "            f.split(f.col(\"connection\"), \",\")))\\\n",
    "        .orderBy(f.desc(\"connection_size\"))\n",
    "df.show()\n",
    "\n",
    "most_popular_hero = df.select(\"hero\").first()\n",
    "print(most_popular_hero.hero)"
   ]
  }
 ],
 "metadata": {
  "kernelspec": {
   "display_name": "Python 3.10.7 64-bit",
   "language": "python",
   "name": "python3"
  },
  "language_info": {
   "codemirror_mode": {
    "name": "ipython",
    "version": 3
   },
   "file_extension": ".py",
   "mimetype": "text/x-python",
   "name": "python",
   "nbconvert_exporter": "python",
   "pygments_lexer": "ipython3",
   "version": "3.10.7"
  },
  "vscode": {
   "interpreter": {
    "hash": "aee8b7b246df8f9039afb4144a1f6fd8d2ca17a180786b69acc140d282b71a49"
   }
  }
 },
 "nbformat": 4,
 "nbformat_minor": 5
}
