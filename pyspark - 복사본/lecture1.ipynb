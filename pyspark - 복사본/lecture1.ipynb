{
 "cells": [
  {
   "cell_type": "code",
   "execution_count": 1,
   "id": "154ee0f3-7eeb-4bd5-bf17-64bbcdd3c7df",
   "metadata": {},
   "outputs": [
    {
     "data": {
      "text/plain": [
       "[342, 363, 839, 976, 933]"
      ]
     },
     "execution_count": 1,
     "metadata": {},
     "output_type": "execute_result"
    }
   ],
   "source": [
    "import pyspark \n",
    "\n",
    "# class pyspark.SparkContext (\n",
    "#    master = None,\n",
    "#    appName = None, \n",
    "#    sparkHome = None, \n",
    "#    pyFiles = None, \n",
    "#    environment = None, \n",
    "#    batchSize = 0, \n",
    "#    serializer = PickleSerializer(), \n",
    "#    conf = None, \n",
    "#    gateway = None, \n",
    "#    jsc = None, \n",
    "#    profiler_cls = <class 'pyspark.profiler.BasicProfiler'>\n",
    "# )\n",
    "\n",
    "# Master − It is the URL of the cluster it connects to.\n",
    "# appName − Name of your job.\n",
    "# sparkHome − Spark installation directory.\n",
    "# pyFiles − The .zip or .py files to send to the cluster and add to the PYTHONPATH.\n",
    "# Environment − Worker nodes environment variables.\n",
    "# batchSize − The number of Python objects represented as a single Java object. Set 1 to disable batching, 0 to automatically choose the batch size based on object sizes, or -1 to use an unlimited batch size.\n",
    "# Serializer − RDD serializer.\n",
    "# Conf − An object of L{SparkConf} to set all the Spark properties.\n",
    "# Gateway − Use an existing gateway and JVM, otherwise initializing a new JVM.\n",
    "# JSC − The JavaSparkContext instance.\n",
    "# profiler_cls − A class of custom Profiler used to do profiling (the default is pyspark.profiler.BasicProfiler).\n",
    "\n",
    "# SparkContext uses Py4J to launch a JVM and creates a JavaSparkContext. \n",
    "# By default, PySpark has SparkContext available as ‘sc’, so creating a new SparkContext won't work.\n",
    "\n",
    "sc = pyspark.SparkContext('local[*]')\n",
    "\n",
    "# RDD : immutable distributed collection of objects\n",
    "rdd = sc.parallelize(range(1000))\n",
    "rdd.takeSample(False, 5)"
   ]
  },
  {
   "cell_type": "code",
   "execution_count": null,
   "id": "3824a1f5-a416-4ce6-9e11-5e25f7f19bff",
   "metadata": {},
   "outputs": [],
   "source": []
  }
 ],
 "metadata": {
  "kernelspec": {
   "display_name": "Python 3 (ipykernel)",
   "language": "python",
   "name": "python3"
  },
  "language_info": {
   "codemirror_mode": {
    "name": "ipython",
    "version": 3
   },
   "file_extension": ".py",
   "mimetype": "text/x-python",
   "name": "python",
   "nbconvert_exporter": "python",
   "pygments_lexer": "ipython3",
   "version": "3.10.8"
  },
  "vscode": {
   "interpreter": {
    "hash": "aee8b7b246df8f9039afb4144a1f6fd8d2ca17a180786b69acc140d282b71a49"
   }
  }
 },
 "nbformat": 4,
 "nbformat_minor": 5
}
