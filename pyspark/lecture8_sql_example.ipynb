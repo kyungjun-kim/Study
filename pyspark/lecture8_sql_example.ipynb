{
 "cells": [
  {
   "cell_type": "code",
   "execution_count": 25,
   "id": "b2627cb0-3f57-4528-8d85-47b19689a518",
   "metadata": {},
   "outputs": [
    {
     "name": "stdout",
     "output_type": "stream",
     "text": [
      "+--------------------+-----+\n",
      "|             country|count|\n",
      "+--------------------+-----+\n",
      "|           Australia|   10|\n",
      "|            Dominica|    9|\n",
      "|           Nicaragua|    9|\n",
      "|             Ecuador|    9|\n",
      "|              Kuwait|    9|\n",
      "|               Congo|    9|\n",
      "|            Thailand|    9|\n",
      "|          Madagascar|    9|\n",
      "|           Singapore|    9|\n",
      "|Virgin Islands, B...|    8|\n",
      "|              Zambia|    8|\n",
      "|  Dominican Republic|    8|\n",
      "|Sao Tome and Prin...|    8|\n",
      "|                Mali|    8|\n",
      "|             Senegal|    8|\n",
      "|             Belgium|    7|\n",
      "|Palestinian Terri...|    7|\n",
      "|             Lesotho|    7|\n",
      "|             Bolivia|    7|\n",
      "|         Isle of Man|    7|\n",
      "+--------------------+-----+\n",
      "only showing top 20 rows\n",
      "\n"
     ]
    }
   ],
   "source": [
    "from pyspark.sql import (\n",
    "    Row,\n",
    "    SparkSession)\n",
    "from pyspark.sql.functions import col, asc, desc\n",
    "\n",
    "def parse_line(line: str):\n",
    "    fields = line.split('|') # |\n",
    "    return Row(\n",
    "        name=str(fields[0]),\n",
    "        country=str(fields[1]),\n",
    "        email=str(fields[2]),\n",
    "        compensation=int(fields[3]))\n",
    "\n",
    "\n",
    "spark = SparkSession.builder.appName(\"SparkSQL\").getOrCreate()\n",
    "lines = spark.sparkContext.textFile(\"file:///home/jovyan/work/sample/income.txt\")\n",
    "income_data = lines.map(parse_line)\n",
    "\n",
    "# Creates a DataFrame from an RDD, a list or a pandas.DataFrame.\n",
    "# SparkSession.createDataFrame(data, schema=None, samplingRatio=None, verifySchema=True)[source]\n",
    "schema_income = spark.createDataFrame(data=income_data).cache()\n",
    "\n",
    "# Creates or replaces a local temporary view with this DataFrame.\n",
    "schema_income.createOrReplaceTempView(\"income\")\n",
    "\n",
    "# returns the dataframe\n",
    "medium_income_df = spark.sql(\n",
    "    \"SELECT * FROM income WHERE compensation >= 70000 AND compensation <= 100000\")\n",
    "# medium_income_df.show()\n",
    "\n",
    "# for income_data in medium_income_df.collect():\n",
    "#     # print(income_data)\n",
    "#     print(income_data.name)\n",
    "\n",
    "# # use function instead of sql function\n",
    "# schema_income.groupBy(\"country\").count().orderBy(col(\"count\").desc()).show()\n"
   ]
  }
 ],
 "metadata": {
  "kernelspec": {
   "display_name": "Python 3.10.7 64-bit",
   "language": "python",
   "name": "python3"
  },
  "language_info": {
   "codemirror_mode": {
    "name": "ipython",
    "version": 3
   },
   "file_extension": ".py",
   "mimetype": "text/x-python",
   "name": "python",
   "nbconvert_exporter": "python",
   "pygments_lexer": "ipython3",
   "version": "3.10.7"
  },
  "vscode": {
   "interpreter": {
    "hash": "aee8b7b246df8f9039afb4144a1f6fd8d2ca17a180786b69acc140d282b71a49"
   }
  }
 },
 "nbformat": 4,
 "nbformat_minor": 5
}
