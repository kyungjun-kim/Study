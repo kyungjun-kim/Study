{
 "cells": [
  {
   "cell_type": "code",
   "execution_count": 9,
   "id": "47107a12-627b-42be-8ab2-e2d1d5a8031f",
   "metadata": {},
   "outputs": [
    {
     "data": {
      "text/plain": [
       "[Row(word=['hello', 'world', 'and', 'pyspark'])]"
      ]
     },
     "execution_count": 9,
     "metadata": {},
     "output_type": "execute_result"
    }
   ],
   "source": [
    "from pyspark.sql import (\n",
    "    functions,\n",
    "    Row,\n",
    "    SparkSession\n",
    ")\n",
    "\n",
    "spark = SparkSession.builder.appName(\"df_wordcount\").getOrCreate()\n",
    "\n",
    "# # functions.explode(col)\n",
    "# # Returns a new row for each element in the given array or map\n",
    "# # Row를 리턴\n",
    "df = spark.createDataFrame([\n",
    "         Row(a=1,\n",
    "             intlist=[1,2,3],\n",
    "             mapfield={\"a\": \"b\"}\n",
    "            )])\n",
    "\n",
    "df.select(functions.explode(df.intlist).alias(\"anInt\")).collect()\n",
    "# # output: [Row(anInt=1), Row(anInt=2), Row(anInt=3)]\n",
    "\n",
    "\n",
    "# # functions.split(str, pattern, limit=-1)\n",
    "# # Splits str around matches of the given pattern.\n",
    "df = spark.createDataFrame([\n",
    "         Row(word=\"hello world and pyspark\")])\n",
    "df.select(functions.split(df.word, ' '#, limit = 1\n",
    "                          ).alias(\"word\")).collect()"
   ]
  },
  {
   "cell_type": "code",
   "execution_count": 12,
   "id": "dcb40802-b79e-47b5-8579-0265936061c6",
   "metadata": {},
   "outputs": [
    {
     "name": "stdout",
     "output_type": "stream",
     "text": [
      "+--------------------+\n",
      "|               value|\n",
      "+--------------------+\n",
      "|Lorem ipsum dolor...|\n",
      "|                    |\n",
      "|Orci eu lobortis ...|\n",
      "|                    |\n",
      "|Vulputate enim nu...|\n",
      "|                    |\n",
      "|Sit amet nulla fa...|\n",
      "|                    |\n",
      "|Nibh cras pulvina...|\n",
      "|                    |\n",
      "|Arcu felis bibend...|\n",
      "|                    |\n",
      "|Vestibulum sed ar...|\n",
      "|                    |\n",
      "|Sit amet tellus c...|\n",
      "|                    |\n",
      "|Augue mauris augu...|\n",
      "|                    |\n",
      "|Pellentesque mass...|\n",
      "|                    |\n",
      "+--------------------+\n",
      "only showing top 20 rows\n",
      "\n",
      "+-----------+\n",
      "|       word|\n",
      "+-----------+\n",
      "|      Lorem|\n",
      "|      ipsum|\n",
      "|      dolor|\n",
      "|        sit|\n",
      "|      amet,|\n",
      "|consectetur|\n",
      "| adipiscing|\n",
      "|      elit,|\n",
      "|        sed|\n",
      "|         do|\n",
      "|    eiusmod|\n",
      "|     tempor|\n",
      "| incididunt|\n",
      "|         ut|\n",
      "|     labore|\n",
      "|         et|\n",
      "|     dolore|\n",
      "|      magna|\n",
      "|    aliqua.|\n",
      "|         Et|\n",
      "+-----------+\n",
      "only showing top 20 rows\n",
      "\n",
      "+------------+-----+\n",
      "|        word|count|\n",
      "+------------+-----+\n",
      "|         sed|  194|\n",
      "|          in|  164|\n",
      "|        amet|  149|\n",
      "|         sit|  147|\n",
      "|          ut|  140|\n",
      "|        eget|  131|\n",
      "|          id|  127|\n",
      "|          at|  120|\n",
      "|       vitae|  118|\n",
      "|          et|  117|\n",
      "|        nunc|  113|\n",
      "|          eu|  108|\n",
      "|         non|  102|\n",
      "|            |   99|\n",
      "|          ac|   97|\n",
      "|      tellus|   97|\n",
      "|        diam|   95|\n",
      "|     viverra|   95|\n",
      "|        enim|   93|\n",
      "|pellentesque|   93|\n",
      "+------------+-----+\n",
      "only showing top 20 rows\n",
      "\n"
     ]
    }
   ],
   "source": [
    "csv_file_path = \"file:///home/jovyan/work/sample/lorem_ipsum.txt\"\n",
    "df = spark.read.text(csv_file_path)\n",
    "\n",
    "# # save as \"value\"\n",
    "df.show()\n",
    "\n",
    "words = df.select(\n",
    "    functions.explode(\n",
    "        functions.split(df.value, ' ')).alias(\"word\"))\n",
    "words.show()\n",
    "\n",
    "word_counts = words.groupBy(\"word\").count().orderBy(functions.col(\"count\").desc())\n",
    "# \n",
    "word_counts.show()"
   ]
  },
  {
   "cell_type": "code",
   "execution_count": null,
   "id": "d23d6b0a-3617-44ec-b9af-f1d1ad1a3f6b",
   "metadata": {},
   "outputs": [],
   "source": []
  }
 ],
 "metadata": {
  "kernelspec": {
   "display_name": "Python 3 (ipykernel)",
   "language": "python",
   "name": "python3"
  },
  "language_info": {
   "codemirror_mode": {
    "name": "ipython",
    "version": 3
   },
   "file_extension": ".py",
   "mimetype": "text/x-python",
   "name": "python",
   "nbconvert_exporter": "python",
   "pygments_lexer": "ipython3",
   "version": "3.11.6"
  },
  "vscode": {
   "interpreter": {
    "hash": "aee8b7b246df8f9039afb4144a1f6fd8d2ca17a180786b69acc140d282b71a49"
   }
  }
 },
 "nbformat": 4,
 "nbformat_minor": 5
}
