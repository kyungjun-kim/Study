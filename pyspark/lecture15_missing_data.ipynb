{
 "cells": [
  {
   "cell_type": "code",
   "execution_count": 52,
   "id": "074fab98-769f-4c82-b535-746b22438f8c",
   "metadata": {},
   "outputs": [
    {
     "name": "stdout",
     "output_type": "stream",
     "text": [
      "root\n",
      " |-- id: integer (nullable = true)\n",
      " |-- occupation: string (nullable = true)\n",
      " |-- salary: integer (nullable = true)\n",
      "\n",
      "+----+--------+\n",
      "|year|     avg|\n",
      "+----+--------+\n",
      "|2022|2,540.67|\n",
      "|2021|2,195.68|\n",
      "+----+--------+\n",
      "\n"
     ]
    }
   ],
   "source": [
    "from pyspark.sql import (\n",
    "    functions as f,\n",
    "    SparkSession,\n",
    "    types as t\n",
    ")\n",
    "\n",
    "spark = SparkSession.builder.appName(\"df_missing_data\").getOrCreate()\n",
    "df = spark.read.csv(\n",
    "    \"file:///home/jovyan/work/sample/null_data.csv\", header=True, inferSchema=True)\n",
    "# df.show()\n",
    "\n",
    "# DataFrame.na: Returns a DataFrameNaFunctions for handling missing values.\n",
    "# DataFrame.dropna(how='any', thresh=None, subset=None)[source]: Returns a new DataFrame omitting rows with null values. DataFrame.dropna() and DataFrameNaFunctions.drop() are aliases of each other.\n",
    "#   how: 'any’ or ‘all’. If ‘any’, drop a row if it contains any nulls. If ‘all’, drop a row only if all its values are null.\n",
    "#   thresh: default None If specified, drop rows that have less than thresh non-null values. This overwrites the how parameter.\n",
    "#   subset: optional list of column names to consider.\n",
    "\n",
    "# df.na.drop(how=\"any\").show()\n",
    "# df.na.drop(thresh=2).show()\n",
    "# df.na.drop(subset=[\"salary\"]).show()\n",
    "\n",
    "df.printSchema()\n",
    "\n",
    "# # fill string\n",
    "# df.na.fill(\"engineer\").show()\n",
    "\n",
    "# # fill integer\n",
    "# df.na.fill(0).show()\n",
    "\n",
    "# # fill the subset\n",
    "# df.na.fill(\"NA\", subset=[\"occupation\"]).show()\n",
    "\n",
    "# # fill the mean value\n",
    "# mean_value = df.select(f.mean(df['salary'])).collect()\n",
    "\n",
    "# # print(mean_value[0][0])\n",
    "\n",
    "# df.na.fill(mean_value[0][0], subset=[\"salary\"]).show()\n",
    "\n",
    "\n",
    "\n",
    "# Date parsing\n",
    "spark = SparkSession.builder.appName(\"df_manage_date\").getOrCreate()\n",
    "df = spark.read.csv(\n",
    "    \"file:///home/jovyan/work/sample/date_parsing.csv\", header=True, inferSchema=True)\n",
    "\n",
    "# # show year\n",
    "# df.select(f.year('date')).show()\n",
    "\n",
    "# # show month\n",
    "# df.select(f.month('date')).show()\n",
    "\n",
    "# # show day\n",
    "# df.select(f.dayofmonth('date').alias('day')).show()\n",
    "# df.select(f.dayofyear('date').alias('day')).show()\n",
    "\n",
    "df = df.withColumn(\"year\", f.year('date')).groupBy(\"year\").mean(\"number\").withColumnRenamed(\"avg(number)\", \"avg\")\n",
    "# df.show()\n",
    "df.select(\"year\", f.format_number(\"avg\", 2).alias(\"avg\")).show()\n"
   ]
  }
 ],
 "metadata": {
  "kernelspec": {
   "display_name": "Python 3 (ipykernel)",
   "language": "python",
   "name": "python3"
  },
  "language_info": {
   "codemirror_mode": {
    "name": "ipython",
    "version": 3
   },
   "file_extension": ".py",
   "mimetype": "text/x-python",
   "name": "python",
   "nbconvert_exporter": "python",
   "pygments_lexer": "ipython3",
   "version": "3.10.8"
  }
 },
 "nbformat": 4,
 "nbformat_minor": 5
}
