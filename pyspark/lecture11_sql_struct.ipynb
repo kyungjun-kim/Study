{
 "cells": [
  {
   "cell_type": "code",
   "execution_count": 20,
   "id": "42393949-0d35-4b18-9dcd-10bde31ade92",
   "metadata": {},
   "outputs": [
    {
     "name": "stdout",
     "output_type": "stream",
     "text": [
      "+--------------------+-------------------+\n",
      "|                city|        temperature|\n",
      "+--------------------+-------------------+\n",
      "|                Guam|              -13.0|\n",
      "|                Guam|              102.2|\n",
      "|              Serbia|              -31.0|\n",
      "|       French Guiana|               21.2|\n",
      "|Falkland Islands ...|              -40.0|\n",
      "|              Brazil|               59.0|\n",
      "|             Tunisia|-23.799999999999997|\n",
      "|            Portugal|               44.6|\n",
      "|                Iran| -7.600000000000001|\n",
      "|           Australia|               23.0|\n",
      "|              Gambia|               69.8|\n",
      "|               Italy|               87.8|\n",
      "|          Guadeloupe|              -38.2|\n",
      "|        South Africa|-11.200000000000003|\n",
      "|              Malawi|               21.2|\n",
      "|                Iran|               93.2|\n",
      "|      Norfolk Island|               23.0|\n",
      "|Lao People's Demo...|               77.0|\n",
      "|   Republic of Korea|-0.3999999999999986|\n",
      "|           Singapore|                5.0|\n",
      "+--------------------+-------------------+\n",
      "only showing top 20 rows\n",
      "\n"
     ]
    }
   ],
   "source": [
    "from pyspark.sql import (\n",
    "    functions as f,\n",
    "    Row,\n",
    "    SparkSession,\n",
    "    types as t\n",
    ")\n",
    "\n",
    "spark = SparkSession.builder.appName(\"df_struct\").getOrCreate()\n",
    "\n",
    "# types.StructField(name, dataType, nullable=True, metadata=None)\n",
    "table_schema = t.StructType([\n",
    "    t.StructField(\"country\", t.StringType(), True),\n",
    "    t.StructField(\"temperature\", t.FloatType(), True),\n",
    "    t.StructField(\"observed_date\", t.StringType(), True)])\n",
    "\n",
    "csv_file_path = \"file:///home/jovyan/work/sample/temp_with_date.csv\"\n",
    "df = spark.read.schema(table_schema).csv(csv_file_path)\n",
    "# df.printSchema()\n",
    "\n",
    "data = df.select(\"country\", \"temperature\", \"observed_date\")\n",
    "\n",
    "min_temperature = data.groupBy(\"country\").min(\"temperature\")\n",
    "\n",
    "# min_temperature.show()\n",
    "\n",
    "# # celsius to fahrenheit: (0°C × 9/5) + 32 \n",
    "f_temperature = data.withColumn(\n",
    "                    \"temperature\",\n",
    "                    (f.col(\"temperature\") * 9 / 5) + 32)\\\n",
    "                .select(\"country\", \"temperature\")\n",
    "f_temperature.show()\n"
   ]
  }
 ],
 "metadata": {
  "kernelspec": {
   "display_name": "Python 3 (ipykernel)",
   "language": "python",
   "name": "python3"
  },
  "language_info": {
   "codemirror_mode": {
    "name": "ipython",
    "version": 3
   },
   "file_extension": ".py",
   "mimetype": "text/x-python",
   "name": "python",
   "nbconvert_exporter": "python",
   "pygments_lexer": "ipython3",
   "version": "3.10.7"
  },
  "vscode": {
   "interpreter": {
    "hash": "aee8b7b246df8f9039afb4144a1f6fd8d2ca17a180786b69acc140d282b71a49"
   }
  }
 },
 "nbformat": 4,
 "nbformat_minor": 5
}
