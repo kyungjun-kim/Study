{
 "cells": [
  {
   "cell_type": "code",
   "execution_count": 3,
   "id": "d0a9885d-0e99-4e34-9147-4ce9af39e10a",
   "metadata": {},
   "outputs": [],
   "source": [
    "from pyspark.sql import SparkSession\n",
    "from pyspark.sql.functions import (\n",
    "    avg,\n",
    "    col,\n",
    "    round as rnd\n",
    ")\n",
    "\n",
    "spark = SparkSession.builder.appName(\"sql_import_csv\").getOrCreate()\n",
    "csv_file_path = \"file:///home/jovyan/work/sample/age.csv\"\n",
    "\n",
    "# header option: either csv has header or not(default: header = false)\n",
    "# inferSchema: either all columns are str or not\n",
    "data = spark.read.option(\"header\", \"true\")\\\n",
    "            .option(\"inferSchema\", \"true\")\\\n",
    "            .csv(csv_file_path)\n",
    "# data = spark.read.option(\"header\", \"true\")\\\n",
    "#             .csv(csv_file_path)"
   ]
  },
  {
   "cell_type": "code",
   "execution_count": 6,
   "id": "33702b81-f258-4139-bcf4-870ff50956f1",
   "metadata": {},
   "outputs": [
    {
     "name": "stdout",
     "output_type": "stream",
     "text": [
      "+---+-----+\n",
      "|age|count|\n",
      "+---+-----+\n",
      "| 31|   16|\n",
      "| 65|   16|\n",
      "| 53|   14|\n",
      "| 78|   16|\n",
      "| 34|   15|\n",
      "| 28|   11|\n",
      "| 76|   14|\n",
      "| 27|   10|\n",
      "| 26|   15|\n",
      "| 44|   14|\n",
      "| 12|   15|\n",
      "| 22|   17|\n",
      "| 47|   17|\n",
      "| 52|   16|\n",
      "| 13|   14|\n",
      "| 16|   18|\n",
      "| 20|   12|\n",
      "| 40|   22|\n",
      "| 57|    9|\n",
      "| 54|   17|\n",
      "+---+-----+\n",
      "only showing top 20 rows\n",
      "\n"
     ]
    }
   ],
   "source": [
    "# # show schema\n",
    "#data.printSchema()\n",
    "\n",
    "# # show column name with data\n",
    "# data.select(\"name\", \"age\").show()\n",
    "\n",
    "# # filter the data for age of 20 above\n",
    "# data.filter(data.age > 20).show()\n",
    "\n",
    "# # group by age and aggregates for count\n",
    "# data.groupBy(\"age\").count().show()\n",
    "\n",
    "# # custom arithmetic\n",
    "# data.select(data.name, data.age, data.age - 10).show()\n",
    "\n",
    "# # column alias\n",
    "# data.select(data.name, col(\"age\").alias(\"age1\")).show()\n",
    "\n",
    "# # average\n",
    "# data.select(data.name, data.age, data.country)\\\n",
    "#         .groupBy(\"country\")\\\n",
    "#         .avg(\"age\").show()\n",
    "\n",
    "# # average & sort\n",
    "# data.select(data.name, data.age, data.country)\\\n",
    "#         .groupBy(\"country\")\\\n",
    "#         .avg(\"age\").sort(\"avg(age)\").show()\n",
    "\n",
    "# # average & round\n",
    "# data.select(data.name, data.age, data.country)\\\n",
    "#         .groupBy(\"country\")\\\n",
    "#         .agg(rnd(avg(\"age\"), 2).alias(\"avg_age\")).show()"
   ]
  },
  {
   "cell_type": "code",
   "execution_count": null,
   "id": "2c849d3f-4baf-4535-a657-47ca1cf41d51",
   "metadata": {},
   "outputs": [],
   "source": []
  }
 ],
 "metadata": {
  "kernelspec": {
   "display_name": "Python 3 (ipykernel)",
   "language": "python",
   "name": "python3"
  },
  "language_info": {
   "codemirror_mode": {
    "name": "ipython",
    "version": 3
   },
   "file_extension": ".py",
   "mimetype": "text/x-python",
   "name": "python",
   "nbconvert_exporter": "python",
   "pygments_lexer": "ipython3",
   "version": "3.11.6"
  },
  "vscode": {
   "interpreter": {
    "hash": "aee8b7b246df8f9039afb4144a1f6fd8d2ca17a180786b69acc140d282b71a49"
   }
  }
 },
 "nbformat": 4,
 "nbformat_minor": 5
}
