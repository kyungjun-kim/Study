{
 "cells": [
  {
   "cell_type": "markdown",
   "id": "e897a846-3e97-4d6d-8d9e-7bead21d50f3",
   "metadata": {},
   "source": [
    "# 도시별로 온도 데이터 (min, max) 추출"
   ]
  },
  {
   "cell_type": "code",
   "execution_count": 5,
   "id": "b0c3e1d3-8c51-4e1b-ac90-63799fce07bb",
   "metadata": {},
   "outputs": [],
   "source": [
    "# filter\n",
    "# Return a new RDD containing only the elements that satisfy a predicate.\n",
    "\n",
    "import pyspark\n",
    "\n",
    "sc = pyspark.SparkContext.getOrCreate()\n",
    "test_file = \"file:///home/jovyan/work/sample/temperature.csv\"\n",
    "\n",
    "def get_data(line, header):\n",
    "    if line != header:\n",
    "        col = line.split(',')\n",
    "        city = col[6].strip(\"\\\"\")\n",
    "        avg_temp_fahr = col[4]\n",
    "        yield (city, avg_temp_fahr)\n",
    "\n",
    "lines = sc.textFile(test_file)\n",
    "\n",
    "# get header string\n",
    "header = lines.first()\n",
    "\n",
    "parsed_line = lines.flatMap(lambda line: get_data(line, header))\n",
    "\n",
    "# filter NA values\n",
    "filtered_line = parsed_line.filter(lambda x: \"NA\" not in x[1])"
   ]
  },
  {
   "cell_type": "code",
   "execution_count": 9,
   "id": "3ea354c4-8a8c-4f88-8f7b-ee9328ace0b1",
   "metadata": {},
   "outputs": [
    {
     "name": "stdout",
     "output_type": "stream",
     "text": [
      "Auckland: 49.856\n",
      "Canoas: 50.009\n",
      "Cape Town: 49.9946\n",
      "Hamilton: 44.564\n",
      "Kherson: 7.0952\n",
      "Kiev: 2.85619999999999\n",
      "Lvov: 7.1726\n",
      "Marseille: 39.3908\n",
      "Odesa: 14.8838\n",
      "Stockholm: 13.3988\n",
      "Wroclaw: 9.167\n",
      "NA: 12.4682\n",
      "Brasília: 62.9744\n",
      "Johannesburg: 42.1772\n",
      "Paris: 25.0232\n",
      "Tokyo: 29.156\n",
      "Tottori: 34.2518\n",
      "Uppsala: 6.0494\n",
      "Warsaw: 6.8\n"
     ]
    }
   ],
   "source": [
    "# 최저기온\n",
    "\n",
    "# finding min temperature\n",
    "min_temp = filtered_line.reduceByKey(lambda x, y: min(float(x), float(y)))\n",
    "final_list = min_temp.collect()\n",
    "for city, temperature in final_list:\n",
    "    print(f\"{city}: {temperature}\")"
   ]
  },
  {
   "cell_type": "code",
   "execution_count": 10,
   "id": "a99d625f-0edc-4847-be00-7b9c1df3ee74",
   "metadata": {},
   "outputs": [
    {
     "name": "stdout",
     "output_type": "stream",
     "text": [
      "------------------\n",
      "Auckland: 71.1284\n",
      "Canoas: 78.5822\n",
      "Cape Town: 71.7512\n",
      "Hamilton: 70.3562\n",
      "Kherson: 78.6758\n",
      "Kiev: 76.2674\n",
      "Lvov: 72.3344\n",
      "Marseille: 80.9132\n",
      "Odesa: 77.8748\n",
      "Stockholm: 68.9792\n",
      "Wroclaw: 71.4398\n",
      "NA: 82.067\n",
      "Brasília: 78.6794\n",
      "Johannesburg: 71.5766\n",
      "Paris: 73.8752\n",
      "Tokyo: 81.131\n",
      "Tottori: 84.6554\n",
      "Uppsala: 67.9424\n",
      "Warsaw: 73.112\n"
     ]
    }
   ],
   "source": [
    "# 최고기온\n",
    "\n",
    "print(\"------------------\")\n",
    "# finding max temperature\n",
    "max_temp = filtered_line.reduceByKey(lambda x, y: max(float(x), float(y)))\n",
    "final_list = max_temp.collect()\n",
    "for city, temperature in final_list:\n",
    "    print(f\"{city}: {temperature}\")\n"
   ]
  },
  {
   "cell_type": "code",
   "execution_count": null,
   "id": "b47dd6f1-8bc1-44af-a89f-7e094b9f442a",
   "metadata": {},
   "outputs": [],
   "source": []
  }
 ],
 "metadata": {
  "kernelspec": {
   "display_name": "Python 3 (ipykernel)",
   "language": "python",
   "name": "python3"
  },
  "language_info": {
   "codemirror_mode": {
    "name": "ipython",
    "version": 3
   },
   "file_extension": ".py",
   "mimetype": "text/x-python",
   "name": "python",
   "nbconvert_exporter": "python",
   "pygments_lexer": "ipython3",
   "version": "3.11.6"
  },
  "vscode": {
   "interpreter": {
    "hash": "aee8b7b246df8f9039afb4144a1f6fd8d2ca17a180786b69acc140d282b71a49"
   }
  }
 },
 "nbformat": 4,
 "nbformat_minor": 5
}
