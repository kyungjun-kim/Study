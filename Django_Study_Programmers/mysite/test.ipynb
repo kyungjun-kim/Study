{
 "cells": [
  {
   "cell_type": "code",
   "execution_count": 19,
   "metadata": {},
   "outputs": [
    {
     "name": "stdout",
     "output_type": "stream",
     "text": [
      "Aa0aPAf985Bz1EhCz2W3D1gkD6x\n"
     ]
    }
   ],
   "source": [
    "array = []\n",
    "s = ''\n",
    "max_len = 0\n",
    "for i in range(5) :\n",
    "    tmp = input()\n",
    "    if len(tmp) > max_len :\n",
    "        max_len = len(tmp)\n",
    "    array.append(list(map(lambda x : x, tuple(tmp))))\n",
    "tmp = 0\n",
    "for i in range(max_len) :\n",
    "    for j in array :\n",
    "        if len(j) > tmp :\n",
    "            s += j[tmp]\n",
    "    tmp += 1\n",
    "print(s)"
   ]
  },
  {
   "cell_type": "code",
   "execution_count": 21,
   "metadata": {},
   "outputs": [
    {
     "data": {
      "text/plain": [
       "[['A', 'A', 'B', 'C', 'D', 'D'],\n",
       " ['a', 'f', 'z', 'z'],\n",
       " ['0', '9', '1', '2', '1'],\n",
       " ['a', '8', 'E', 'W', 'g', '6'],\n",
       " ['P', '5', 'h', '3', 'k', 'x']]"
      ]
     },
     "execution_count": 21,
     "metadata": {},
     "output_type": "execute_result"
    }
   ],
   "source": [
    "array"
   ]
  },
  {
   "cell_type": "code",
   "execution_count": 26,
   "metadata": {},
   "outputs": [
    {
     "data": {
      "text/plain": [
       "[]"
      ]
     },
     "execution_count": 26,
     "metadata": {},
     "output_type": "execute_result"
    }
   ],
   "source": [
    "array"
   ]
  },
  {
   "cell_type": "code",
   "execution_count": null,
   "metadata": {},
   "outputs": [],
   "source": []
  }
 ],
 "metadata": {
  "kernelspec": {
   "display_name": "Python 3",
   "language": "python",
   "name": "python3"
  },
  "language_info": {
   "codemirror_mode": {
    "name": "ipython",
    "version": 3
   },
   "file_extension": ".py",
   "mimetype": "text/x-python",
   "name": "python",
   "nbconvert_exporter": "python",
   "pygments_lexer": "ipython3",
   "version": "3.11.3"
  }
 },
 "nbformat": 4,
 "nbformat_minor": 2
}
