{
 "cells": [
  {
   "cell_type": "code",
   "execution_count": 2,
   "metadata": {},
   "outputs": [],
   "source": [
    "n, m = map(int, input().split())\n",
    "\n",
    "graph = []\n",
    "for i in range(n) :\n",
    "    graph.append(list(map(int, input())))"
   ]
  },
  {
   "cell_type": "code",
   "execution_count": 3,
   "metadata": {},
   "outputs": [
    {
     "data": {
      "text/plain": [
       "[[0, 0, 1, 1, 0], [0, 0, 0, 1, 1], [1, 1, 1, 1, 1], [0, 0, 0, 0, 0]]"
      ]
     },
     "execution_count": 3,
     "metadata": {},
     "output_type": "execute_result"
    }
   ],
   "source": [
    "graph"
   ]
  },
  {
   "cell_type": "code",
   "execution_count": 15,
   "metadata": {},
   "outputs": [
    {
     "name": "stdout",
     "output_type": "stream",
     "text": [
      "4 5\n",
      "좌표 : [0, 0]\n",
      "좌표 : [0, 1]\n",
      "좌표 : [0, 2]\n",
      "좌표 : [0, 3]\n",
      "좌표 : [0, 4]\n",
      "좌표 : [1, 0]\n",
      "좌표 : [1, 1]\n",
      "좌표 : [1, 2]\n",
      "좌표 : [1, 3]\n",
      "좌표 : [1, 4]\n",
      "좌표 : [2, 0]\n",
      "좌표 : [2, 1]\n",
      "좌표 : [2, 2]\n",
      "좌표 : [2, 3]\n",
      "좌표 : [2, 4]\n",
      "좌표 : [3, 0]\n",
      "좌표 : [3, 1]\n",
      "좌표 : [3, 2]\n",
      "좌표 : [3, 3]\n",
      "좌표 : [3, 4]\n",
      "0\n"
     ]
    }
   ],
   "source": [
    "def dfs(x, y):\n",
    "    #주어진 범위를 벗어날 경우 즉시 종료\n",
    "    if x <= -1 or x >= n or y <= -1 or y >= m:\n",
    "        return False\n",
    "    \n",
    "    print(\"좌표 : {}\".format([x,y]))\n",
    "    #현재 노드를 아직 방문하지 않았다면\n",
    "    if graph[x][y] == 0 :\n",
    "        print(\"미방문노드\")\n",
    "        graph[x][y] = 1\n",
    "\n",
    "        #상하좌우의 위치도 모두 재귀적으로 호출\n",
    "        dfs(x - 1, y)\n",
    "        dfs(x + 1, y)\n",
    "        dfs(x, y - 1)\n",
    "        dfs(x, y + 1)\n",
    "        return True\n",
    "    return False\n",
    "result = 0\n",
    "\n",
    "print(n,m)\n",
    "for i in range(n) :\n",
    "    for j in range(m):\n",
    "        # 현재 위치에서 DFS 수행\n",
    "        if dfs(i,j) == True :\n",
    "            result += 1\n",
    "\n",
    "print(result)\n"
   ]
  },
  {
   "cell_type": "code",
   "execution_count": null,
   "metadata": {},
   "outputs": [],
   "source": []
  }
 ],
 "metadata": {
  "kernelspec": {
   "display_name": "Python 3",
   "language": "python",
   "name": "python3"
  },
  "language_info": {
   "codemirror_mode": {
    "name": "ipython",
    "version": 3
   },
   "file_extension": ".py",
   "mimetype": "text/x-python",
   "name": "python",
   "nbconvert_exporter": "python",
   "pygments_lexer": "ipython3",
   "version": "undefined.undefined.undefined"
  }
 },
 "nbformat": 4,
 "nbformat_minor": 2
}
