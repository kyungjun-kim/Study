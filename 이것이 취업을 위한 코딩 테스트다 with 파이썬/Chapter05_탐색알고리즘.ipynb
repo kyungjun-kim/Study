{
 "cells": [
  {
   "cell_type": "code",
   "execution_count": 17,
   "metadata": {},
   "outputs": [
    {
     "name": "stdout",
     "output_type": "stream",
     "text": [
      "[[], [2, 3, 8], [1, 7], [1, 4, 5], [3, 5], [3, 4], [7], [2, 6, 8], [1, 7]]\n",
      "현재 노드 2 : not visited, 방문하고 go to [1, 7]\n",
      "1 : 이미 방문함\n",
      "현재 노드 7 : not visited, 방문하고 go to [2, 6, 8]\n",
      "2 : 이미 방문함\n",
      "현재 노드 6 : not visited, 방문하고 go to [7]\n",
      "7 : 이미 방문함\n",
      "현재 노드 8 : not visited, 방문하고 go to [1, 7]\n",
      "1 : 이미 방문함\n",
      "7 : 이미 방문함\n",
      "현재 노드 3 : not visited, 방문하고 go to [1, 4, 5]\n",
      "1 : 이미 방문함\n",
      "현재 노드 4 : not visited, 방문하고 go to [3, 5]\n",
      "3 : 이미 방문함\n",
      "현재 노드 5 : not visited, 방문하고 go to [3, 4]\n",
      "3 : 이미 방문함\n",
      "4 : 이미 방문함\n",
      "5 : 이미 방문함\n",
      "8 : 이미 방문함\n"
     ]
    }
   ],
   "source": [
    "def dfs(graph, v, visited) :\n",
    "    # 현재 노드를 방문처리\n",
    "    visited[v] = True\n",
    "    #print(v, end = \" \")\n",
    "    #현재 노드와 연결된 다른 노드를 재귀적으로 방문\n",
    "    for i in graph[v] :\n",
    "        if not visited[i] :\n",
    "            print(\"현재 노드 {} : not visited, 방문하고 go to {}\".format(i,graph[i]))\n",
    "            dfs(graph, i ,visited)\n",
    "        else :\n",
    "            print(\"{} : 이미 방문함\".format(i))\n",
    "graph = [\n",
    "    [],\n",
    "    [2,3,8],\n",
    "    [1,7],\n",
    "    [1,4,5],\n",
    "    [3,5],\n",
    "    [3,4],\n",
    "    [7],\n",
    "    [2,6,8],\n",
    "    [1,7]\n",
    "]\n",
    "print(graph)\n",
    "visited = [False] * 9\n",
    "\n",
    "dfs(graph, 1, visited)"
   ]
  },
  {
   "cell_type": "code",
   "execution_count": null,
   "metadata": {},
   "outputs": [],
   "source": []
  }
 ],
 "metadata": {
  "kernelspec": {
   "display_name": "Python 3",
   "language": "python",
   "name": "python3"
  },
  "language_info": {
   "codemirror_mode": {
    "name": "ipython",
    "version": 3
   },
   "file_extension": ".py",
   "mimetype": "text/x-python",
   "name": "python",
   "nbconvert_exporter": "python",
   "pygments_lexer": "ipython3",
   "version": "3.11.3"
  }
 },
 "nbformat": 4,
 "nbformat_minor": 2
}
