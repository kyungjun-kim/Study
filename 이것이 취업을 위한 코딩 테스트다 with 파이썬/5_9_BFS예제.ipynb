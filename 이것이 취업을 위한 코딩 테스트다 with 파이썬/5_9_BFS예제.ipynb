{
 "cells": [
  {
   "cell_type": "code",
   "execution_count": 13,
   "metadata": {},
   "outputs": [
    {
     "name": "stdout",
     "output_type": "stream",
     "text": [
      "1 deque([]) 출력후\n",
      "deque([2, 3, 8]) 삽입끝\n",
      "2 deque([3, 8]) 출력후\n",
      "deque([3, 8, 7]) 삽입끝\n",
      "3 deque([8, 7]) 출력후\n",
      "deque([8, 7, 4, 5]) 삽입끝\n",
      "8 deque([7, 4, 5]) 출력후\n",
      "deque([7, 4, 5]) 삽입끝\n",
      "7 deque([4, 5]) 출력후\n",
      "deque([4, 5, 6]) 삽입끝\n",
      "4 deque([5, 6]) 출력후\n",
      "deque([5, 6]) 삽입끝\n",
      "5 deque([6]) 출력후\n",
      "deque([6]) 삽입끝\n",
      "6 deque([]) 출력후\n",
      "deque([]) 삽입끝\n"
     ]
    }
   ],
   "source": [
    "from collections import deque\n",
    "\n",
    "def bfs(graph, start, visited) :\n",
    "    #큐의 구현을 위해 deque 라이브러리 사용\n",
    "    queue = deque([start])\n",
    "    \n",
    "    #현재 노드를 방문처리\n",
    "    visited[start] = True\n",
    "    \n",
    "    #큐가 빌때까지 반복\n",
    "    while queue :\n",
    "        # 큐에서 하나의 원소를 뽑아 출력\n",
    "        v = queue.popleft()\n",
    "        print(v, end = ' ')\n",
    "        print(queue,\"출력후\")\n",
    "        #해당 원소와 연결된, 아직 방문하지 않은 원소들을 큐에 삽입\n",
    "        for i in graph[v] :\n",
    "            if not visited[i] :\n",
    "                queue.append(i)\n",
    "                visited[i] = True\n",
    "        print(queue,\"삽입끝\")\n",
    "\n",
    "graph = [\n",
    "    [],\n",
    "    [2,3,8],\n",
    "    [1,7],\n",
    "    [1,4,5],\n",
    "    [3,5],\n",
    "    [3,4],\n",
    "    [7],\n",
    "    [2,6,8],\n",
    "    [1,7]\n",
    "]\n",
    "\n",
    "visited = [False] * 9\n",
    "bfs(graph, 1, visited)"
   ]
  },
  {
   "cell_type": "code",
   "execution_count": null,
   "metadata": {},
   "outputs": [],
   "source": []
  }
 ],
 "metadata": {
  "kernelspec": {
   "display_name": "Python 3",
   "language": "python",
   "name": "python3"
  },
  "language_info": {
   "codemirror_mode": {
    "name": "ipython",
    "version": 3
   },
   "file_extension": ".py",
   "mimetype": "text/x-python",
   "name": "python",
   "nbconvert_exporter": "python",
   "pygments_lexer": "ipython3",
   "version": "undefined.undefined.undefined"
  }
 },
 "nbformat": 4,
 "nbformat_minor": 2
}
