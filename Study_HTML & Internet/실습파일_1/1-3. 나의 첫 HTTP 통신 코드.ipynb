{
 "cells": [
  {
   "cell_type": "markdown",
   "id": "192778f5-b6a0-458f-9d28-2ecd531975a1",
   "metadata": {},
   "source": [
    "## 1-3. 나의 첫 HTTP 통신 코드\n",
    "\n",
    "- Python의 `requests` 라이브러리를 이용해 HTTP 통신을 진행해봅시다."
   ]
  },
  {
   "cell_type": "markdown",
   "id": "4641b904-0d90-4bd0-a963-3f01ea8547d1",
   "metadata": {},
   "source": [
    "### request 라이브러리\n",
    "\n",
    "- `requests`는 Python을 이용해서 간단히 HTTP 통신을 진행할 수 있는 라이브러리입니다.\n",
    "\n",
    "이를 사용하기 위해서는 먼저 `requests` 라이브러리를 설치해야합니다.  \n",
    "`pip install`을 통해서 이를 간단하게 실행할 수 있습니다.\n",
    "\n",
    "> Tip: `%`를 이용해서 노트북(.ipynb) 환경에서 터미널 코드를 실행할 수 있습니다."
   ]
  },
  {
   "cell_type": "code",
   "execution_count": 1,
   "id": "1b08d5f2-01ae-4b19-bff8-f933f12f94e4",
   "metadata": {},
   "outputs": [
    {
     "name": "stdout",
     "output_type": "stream",
     "text": [
      "Defaulting to user installation because normal site-packages is not writeable\n",
      "Requirement already satisfied: requests in c:\\programdata\\anaconda3\\lib\\site-packages (2.28.1)\n",
      "Requirement already satisfied: certifi>=2017.4.17 in c:\\programdata\\anaconda3\\lib\\site-packages (from requests) (2022.12.7)\n",
      "Requirement already satisfied: charset-normalizer<3,>=2 in c:\\programdata\\anaconda3\\lib\\site-packages (from requests) (2.0.4)\n",
      "Requirement already satisfied: urllib3<1.27,>=1.21.1 in c:\\programdata\\anaconda3\\lib\\site-packages (from requests) (1.26.14)\n",
      "Requirement already satisfied: idna<4,>=2.5 in c:\\programdata\\anaconda3\\lib\\site-packages (from requests) (3.4)\n",
      "Note: you may need to restart the kernel to use updated packages.\n"
     ]
    }
   ],
   "source": [
    "%pip install requests"
   ]
  },
  {
   "cell_type": "markdown",
   "id": "03b2584d-ca5a-4aa6-80ce-0c478a097fbd",
   "metadata": {},
   "source": [
    "설치를 다 진행했다면, 이제 requests 모듈을 사용할 준비가 되었습니다.\n",
    "\n",
    "이제 이를 바탕으로 HTTP 요청을 진행해보러 가볼까요?"
   ]
  },
  {
   "cell_type": "markdown",
   "id": "060b520e-2569-4cf0-a38c-8a68c37eb907",
   "metadata": {},
   "source": [
    "### 정보를 달라고 요청하기, GET"
   ]
  },
  {
   "cell_type": "code",
   "execution_count": 6,
   "id": "530b2366-1e2d-4c86-b432-9b9a56778041",
   "metadata": {},
   "outputs": [
    {
     "data": {
      "text/plain": [
       "<Response [200]>"
      ]
     },
     "execution_count": 6,
     "metadata": {},
     "output_type": "execute_result"
    }
   ],
   "source": [
    "# requests 라이브러리를 불러온 후, NAVER의 홈 페이지를 요청한 후 응답 받아보기\n",
    "\n",
    "import requests\n",
    "\n",
    "res = requests.get(\"https://www.naver.com\")\n",
    "\n",
    "res #HTTP응답이 담겨있음"
   ]
  },
  {
   "cell_type": "code",
   "execution_count": 7,
   "id": "3f99f957-56b9-4615-864b-a8f68611ab7c",
   "metadata": {},
   "outputs": [
    {
     "data": {
      "text/plain": [
       "{'Date': 'Mon, 07 Oct 2024 08:17:11 GMT', 'content-type': 'text/html; charset=UTF-8', 'transfer-encoding': 'chunked', 'set-cookie': 'PM_CK_loc=a9ad6b8c1ccd46be3bb7daafec1f8f87d5b0678b118c21c8b677b32ac0208d7a; Expires=Tue, 08 Oct 2024 08:17:11 GMT; Path=/; HttpOnly', 'cache-control': 'no-cache, no-store, must-revalidate', 'pragma': 'no-cache', 'x-frame-options': 'DENY', 'x-xss-protection': '1; mode=block', 'content-encoding': 'gzip', 'strict-transport-security': 'max-age=63072000; includeSubdomains', 'referrer-policy': 'unsafe-url', 'server': 'nfront'}"
      ]
     },
     "execution_count": 7,
     "metadata": {},
     "output_type": "execute_result"
    }
   ],
   "source": [
    "# Header를 확인해봅시다 : .headers\n",
    "\n",
    "res.headers"
   ]
  },
  {
   "cell_type": "code",
   "execution_count": 12,
   "id": "80fb516c-d62e-4f9e-a76a-a395ebeb05c3",
   "metadata": {},
   "outputs": [
    {
     "data": {
      "text/plain": [
       "'   <!doctype html> <html lang=\"ko\" class=\"fzoom\"> <head> <meta charset=\"utf-8\"> <meta name=\"Referrer\" content=\"origin\"> <meta http-equiv=\"X-UA-Compatible\" content=\"IE=edge\"> <meta name=\"viewport\" content=\"width=1190\"> <title>NAVER</title> <meta name=\"apple-mobile-web-app-title\" content=\"NAVER\"/> <meta name=\"robots\" content=\"index,nofollow\"/> <meta name=\"description\" content=\"네이버 메인에서 다양한 정보와 유용한 컨텐츠를 만나 보세요\"/> <meta property=\"og:title\" content=\"네이버\"> <meta property=\"og:url\" content=\"https://www.naver.com/\"> <meta property=\"og:image\" content=\"https://s.pstatic.net/static/www/mobile/edit/2016/0705/mobile_212852414260.png\"> <meta property=\"og:description\" content=\"네이버 메인에서 다양한 정보와 유용한 컨텐츠를 만나 보세요\"/> <meta name=\"twitter:card\" content=\"summary\"> <meta name=\"twitter:title\" content=\"\"> <meta name=\"twitter:url\" content=\"https://www.naver.com/\"> <meta name=\"twitter:image\" content=\"https://s.pstatic.net/static/www/mobile/edit/2016/0705/mobile_212852414260.png\"> <meta name=\"twitter:description\" c'"
      ]
     },
     "execution_count": 12,
     "metadata": {},
     "output_type": "execute_result"
    }
   ],
   "source": [
    "# Body를 텍스트 형태로 확인해봅시다 : .text\n",
    "\n",
    "\n",
    "res.text[:1000]"
   ]
  },
  {
   "cell_type": "markdown",
   "id": "5304dfa9-2edf-4745-bcc6-8ae1e8df39af",
   "metadata": {},
   "source": [
    "### 정보 **갱신**하는 것을 요청하기, POST\n",
    "\n",
    "그렇다면 이렇게 항상 정보를 가져오는 경우만 있습니다.\n",
    "\n",
    "아닙니다. 우리는 우리의 정보를 제공해주면서 서버로하여금 무언가 요청을 진행할 때도 있습니다.  \n",
    "우리가 매일 진행하는, **로그인**이 바로 그 예시죠.\n",
    "\n",
    "이러한 요청을 처리하는 HTTP Method가 있는데, 바로 POST입니다.\n",
    "\n",
    "POST를 활용하기 위해 다음 사이트를 이용해보도록 하겠습니다:\n",
    "https://webhook.site\n"
   ]
  },
  {
   "cell_type": "code",
   "execution_count": 14,
   "id": "26e256af-33d9-42ac-8334-fa2d1ae5d4b0",
   "metadata": {},
   "outputs": [
    {
     "data": {
      "text/plain": [
       "<Response [200]>"
      ]
     },
     "execution_count": 14,
     "metadata": {},
     "output_type": "execute_result"
    }
   ],
   "source": [
    "# payload와 함께 POST를 보내봅시다 : requests.post()\n",
    "payload = {\"name\": \"Hello\", \"age\": 13}\n",
    "\n",
    "res = requests.post(\"https://webhook.site/f5d8d186-b50f-4bee-8aa5-cfe0796e721e\", payload)"
   ]
  },
  {
   "cell_type": "markdown",
   "id": "d628e3d0",
   "metadata": {},
   "source": [
    "응답의 상태 코드를 통해 응답이 잘 왔는지 확인해볼까요?"
   ]
  },
  {
   "cell_type": "code",
   "execution_count": 15,
   "id": "3db1eaaa",
   "metadata": {},
   "outputs": [
    {
     "data": {
      "text/plain": [
       "200"
      ]
     },
     "execution_count": 15,
     "metadata": {},
     "output_type": "execute_result"
    }
   ],
   "source": [
    "# 상태 코드(status code)를 확인해봅시다 : .status_code\n",
    "\n",
    "res.status_code"
   ]
  },
  {
   "cell_type": "code",
   "execution_count": null,
   "id": "0ad454be",
   "metadata": {},
   "outputs": [],
   "source": []
  }
 ],
 "metadata": {
  "kernelspec": {
   "display_name": "Python 3 (ipykernel)",
   "language": "python",
   "name": "python3"
  },
  "language_info": {
   "codemirror_mode": {
    "name": "ipython",
    "version": 3
   },
   "file_extension": ".py",
   "mimetype": "text/x-python",
   "name": "python",
   "nbconvert_exporter": "python",
   "pygments_lexer": "ipython3",
   "version": "3.10.9"
  }
 },
 "nbformat": 4,
 "nbformat_minor": 5
}
