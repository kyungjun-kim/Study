{
 "cells": [
  {
   "cell_type": "code",
   "execution_count": 3,
   "metadata": {},
   "outputs": [],
   "source": [
    "#!pip3 install apache-airflow"
   ]
  },
  {
   "cell_type": "code",
   "execution_count": null,
   "metadata": {},
   "outputs": [],
   "source": [
    "!airflow users create --kyungjun admin --kyungjun airflow --lastname kim --role Admin --email kkj214@gmail.com -p 1159"
   ]
  },
  {
   "cell_type": "code",
   "execution_count": null,
   "metadata": {},
   "outputs": [],
   "source": [
    "pip install \"apache-airflow[celery]==2.4.3\" --constraint \"https://raw.githubusercontent.com/apache/airflow/constraints-2.4.3/constraints-3.7.txt\""
   ]
  },
  {
   "cell_type": "code",
   "execution_count": 41,
   "metadata": {},
   "outputs": [],
   "source": [
    "AIRFLOW_VERSION = \"2.4.3\"\n",
    "PYTHON_VERSION  = '$(python --version | cut -d \" \" -f 2 | cut -d \".\" -f 1-2)'\n",
    "CONSTRAINT_URL  =\"https://raw.githubusercontent.com/apache/airflow/constraints-$2.4.3/constraints-$3.10.0.txt\"\n",
    "pip install \"apache-airflow[async,postgres,google]==$2.4.3\" --constraint \"${}\".format(CONSTRAINT_URL)"
   ]
  },
  {
   "cell_type": "code",
   "execution_count": 3,
   "metadata": {},
   "outputs": [
    {
     "name": "stdout",
     "output_type": "stream",
     "text": [
      "Note: you may need to restart the kernel to use updated packages.\n"
     ]
    },
    {
     "name": "stderr",
     "output_type": "stream",
     "text": [
      "WARNING: Ignoring invalid distribution -orchtext (c:\\users\\redtable\\anaconda3\\lib\\site-packages)\n",
      "ERROR: Could not open requirements file: [Errno 2] No such file or directory: '${}.format(CONSTRAINT_URL)'\n",
      "WARNING: Ignoring invalid distribution -orchtext (c:\\users\\redtable\\anaconda3\\lib\\site-packages)\n",
      "WARNING: Ignoring invalid distribution -orchtext (c:\\users\\redtable\\anaconda3\\lib\\site-packages)\n",
      "WARNING: Ignoring invalid distribution -orchtext (c:\\users\\redtable\\anaconda3\\lib\\site-packages)\n"
     ]
    }
   ],
   "source": [
    "pip install \"apache-airflow[async,postgres,google]==$2.4.3\" --constraint \"${}\".format(CONSTRAINT_URL)"
   ]
  },
  {
   "cell_type": "code",
   "execution_count": null,
   "metadata": {},
   "outputs": [],
   "source": []
  }
 ],
 "metadata": {
  "kernelspec": {
   "display_name": "Python 3.8.8 ('base')",
   "language": "python",
   "name": "python3"
  },
  "language_info": {
   "codemirror_mode": {
    "name": "ipython",
    "version": 3
   },
   "file_extension": ".py",
   "mimetype": "text/x-python",
   "name": "python",
   "nbconvert_exporter": "python",
   "pygments_lexer": "ipython3",
   "version": "3.8.8"
  },
  "orig_nbformat": 4,
  "vscode": {
   "interpreter": {
    "hash": "4983dea7fb74a7657ed0a30d17b95d761904bf85c80aa3fbbb72a0182d34178c"
   }
  }
 },
 "nbformat": 4,
 "nbformat_minor": 2
}
