{
 "cells": [
  {
   "cell_type": "markdown",
   "id": "192778f5-b6a0-458f-9d28-2ecd531975a1",
   "metadata": {},
   "source": [
    "## 3-4. 마우스 이벤트 처리하기\n",
    "\n",
    "- Selenium을 이용해서 마우스 Event를 동작해봅시다."
   ]
  },
  {
   "cell_type": "markdown",
   "id": "21cda704-06c6-4de4-83a7-f77fbeec5728",
   "metadata": {},
   "source": [
    "### Target: 해시코드 \"로그인\" 창 접속하기\n",
    "\n",
    "*이번 실습과 다음 실습에 걸쳐 로그인 과정을 자동화하는 것을 목표로 합니다.*\n",
    "\n",
    "다음 사이트에 로그인하기 위해 \"로그인\" 버튼을 눌러봅시다 : https://hashcode.co.kr/"
   ]
  },
  {
   "cell_type": "markdown",
   "id": "f610a6e2-c4e6-4ada-a5ae-eb1a99b0f0b3",
   "metadata": {},
   "source": [
    "### Mouse Event\n",
    "\n",
    "웹 페이지에서 일어나는 일들을 Event라고 합니다.\n",
    "\n",
    "마우스로 일어날 수 있는 대표적인 이벤트는 다음과 같습니다.\n",
    "\n",
    "- 마우스 움직이기(move)\n",
    "- 마우스 누르기(press down)\n",
    "- 마우스 떼기(press up)\n",
    "- ..."
   ]
  },
  {
   "cell_type": "markdown",
   "id": "72fb9572-41bf-45ea-a1da-510739d0c517",
   "metadata": {},
   "source": [
    "\n",
    "저희는 버튼을 찾은 후 이를 클릭하는 것을 목표로 합니다.  \n",
    "마우스 입력은 크게 다음과 같은 과정을 거칩니다.\n",
    "\n",
    "1. 입력하고자 하는 대상 요소를 찾습니다. (`find_element()` 이용)\n",
    "2. 입력하고자 하는 내용을 `click`을 통해 전달합니다.\n",
    "3. `.perform()`을 통해 동작합니다.\n",
    "\n",
    "아래 예시는 `id`가 textInput인 요소에 \"abc\"를 입력하는 예제입니다.\n",
    "```python\n",
    "button = driver.find_element(By.ID, \"button\")\n",
    "ActionChains(driver).click(button).perform()\n",
    "```"
   ]
  },
  {
   "cell_type": "code",
   "execution_count": 4,
   "id": "e1e6514c",
   "metadata": {},
   "outputs": [],
   "source": [
    "# 스크래핑에 필요한 라이브러리를 불러와봅시다.\n",
    "\n",
    "from selenium import webdriver\n",
    "from selenium.webdriver import ActionChains\n",
    "from selenium.webdriver.chrome.service import Service\n",
    "from selenium.webdriver.common.by import By\n",
    "from webdriver_manager.chrome import ChromeDriverManager"
   ]
  },
  {
   "cell_type": "code",
   "execution_count": null,
   "id": "8bdbf061-8236-4008-b75c-449458718736",
   "metadata": {},
   "outputs": [],
   "source": [
    "# 주어진 웹사이트를 누른 후, 우리가 원하는 버튼 요소를 찾은 후 마우스 이벤트를 실행시켜봅시다.\n",
    "\n"
   ]
  },
  {
   "cell_type": "markdown",
   "id": "380684c7-4e86-45df-82d7-35d372ed35b6",
   "metadata": {},
   "source": [
    "성공적으로 로그인 창에 진입했나요?  \n",
    "이제 다음 실습에서 키보드 입력을 진행하는 방법에 대해서 학습해봅시다.\n",
    "\n",
    "Tip: 이 외에도 사용할 수 있는 마우스 이벤트들이 많습니다. 다음 [링크](https://www.selenium.dev/documentation/webdriver/actions_api/mouse/)를 통해 확인하실 수 있어요!"
   ]
  }
 ],
 "metadata": {
  "kernelspec": {
   "display_name": "Python 3 (ipykernel)",
   "language": "python",
   "name": "python3"
  },
  "language_info": {
   "codemirror_mode": {
    "name": "ipython",
    "version": 3
   },
   "file_extension": ".py",
   "mimetype": "text/x-python",
   "name": "python",
   "nbconvert_exporter": "python",
   "pygments_lexer": "ipython3",
   "version": "3.10.4"
  }
 },
 "nbformat": 4,
 "nbformat_minor": 5
}
