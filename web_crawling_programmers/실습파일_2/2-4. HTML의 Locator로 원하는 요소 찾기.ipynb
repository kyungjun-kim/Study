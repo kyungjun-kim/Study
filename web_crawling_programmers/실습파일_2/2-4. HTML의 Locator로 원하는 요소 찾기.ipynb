{
 "cells": [
  {
   "cell_type": "markdown",
   "id": "192778f5-b6a0-458f-9d28-2ecd531975a1",
   "metadata": {},
   "source": [
    "## 2-3. HTML의 Locator로 원하는 요소 찾기\n",
    "\n",
    "- BeautifulSoup을 이용해서 더 정확하게 우리가 원하는 정보를 가져오는 방법을 학습해봅시다."
   ]
  },
  {
   "cell_type": "markdown",
   "id": "5304dfa9-2edf-4745-bcc6-8ae1e8df39af",
   "metadata": {
    "tags": []
   },
   "source": [
    "### 그래, 바로 너! `id`와 `class`\n",
    "\n",
    "태그는 자신의 이름 뿐만 아니라 고유한 속성 또한 가질 수 있습니다.  \n",
    "이 중에서 `id`와 `class`는 Locator로서, 특정 태그를 지칭하는 데에 사용됩니다.\n",
    "\n",
    "- `tagname`: 태그의 이름\n",
    "- `id`: 하나의 고유 태그를 가리키는 라벨\n",
    "- `class`: 여러 태그를 묶는 라벨\n",
    "\n",
    "```html\n",
    "<p>This element has only tagname</p>\n",
    "<p id=\"target\">This element has tagname and id</p>\n",
    "<p class=\"targets\">This element has tagname and class</p>\n",
    "```\n",
    "\n",
    "`id`와 `class`를 이용해서 HTML의 특정 태그를 지칭하고 가져오는 방법에 대해서 알아봅시다."
   ]
  },
  {
   "cell_type": "code",
   "execution_count": 1,
   "id": "7c2007bc",
   "metadata": {},
   "outputs": [],
   "source": [
    "# 스크래핑에 필요한 라이브러리를 불러와봅시다.\n",
    "\n",
    "import requests\n",
    "from bs4 import BeautifulSoup"
   ]
  },
  {
   "cell_type": "code",
   "execution_count": 5,
   "id": "9a808a3e-605b-42a4-af26-c54d2e0a9080",
   "metadata": {},
   "outputs": [],
   "source": [
    "## 또 다른 연습 사이트를 이용해봅시다.\n",
    "site = \"https://www.naver.com/\"\n",
    "\n",
    "res = requests.get(site)\n",
    "soup = BeautifulSoup(res.text, \"html.parser\")"
   ]
  },
  {
   "cell_type": "markdown",
   "id": "2a035450-aa7a-4b41-a96d-b4358b12aa81",
   "metadata": {
    "tags": []
   },
   "source": [
    "#### `id`를 이용해서 요소 가져오기\n",
    "\n",
    "`id`는 요소 하나를 지칭하는 특별한 별명입니다. (겹칠 수 없어요!)  \n",
    "`id`를 이용하면 해당하는 태그 단 하나를 쉽게 가져올 수 있습니다."
   ]
  },
  {
   "cell_type": "code",
   "execution_count": 19,
   "id": "26e256af-33d9-42ac-8334-fa2d1ae5d4b0",
   "metadata": {},
   "outputs": [
    {
     "data": {
      "text/plain": [
       "<div id=\"u_skip\"> <a href=\"#topAsideButton\"><span>상단영역 바로가기</span></a> <a href=\"#shortcutArea\"><span>서비스 메뉴 바로가기</span></a> <a href=\"#newsstand\"><span>새소식 블록 바로가기</span></a> <a href=\"#shopping\"><span>쇼핑 블록 바로가기</span></a> <a href=\"#feed\"><span>관심사 블록 바로가기</span></a> <a href=\"#account\"><span>MY 영역 바로가기</span></a> <a href=\"#widgetboard\"><span>위젯 보드 바로가기</span></a> <a href=\"#viewSetting\"><span>보기 설정 바로가기</span></a> </div>"
      ]
     },
     "execution_count": 19,
     "metadata": {},
     "output_type": "execute_result"
    }
   ],
   "source": [
    "## id 없이 div 태그를 찾아봅시다.\n",
    "\n",
    "soup.find(\"div\")"
   ]
  },
  {
   "cell_type": "code",
   "execution_count": 20,
   "id": "2d09a177",
   "metadata": {},
   "outputs": [
    {
     "data": {
      "text/plain": [
       "<div id=\"u_skip\"> <a href=\"#topAsideButton\"><span>상단영역 바로가기</span></a> <a href=\"#shortcutArea\"><span>서비스 메뉴 바로가기</span></a> <a href=\"#newsstand\"><span>새소식 블록 바로가기</span></a> <a href=\"#shopping\"><span>쇼핑 블록 바로가기</span></a> <a href=\"#feed\"><span>관심사 블록 바로가기</span></a> <a href=\"#account\"><span>MY 영역 바로가기</span></a> <a href=\"#widgetboard\"><span>위젯 보드 바로가기</span></a> <a href=\"#viewSetting\"><span>보기 설정 바로가기</span></a> </div>"
      ]
     },
     "execution_count": 20,
     "metadata": {},
     "output_type": "execute_result"
    }
   ],
   "source": [
    "## id가 u_skip div 태그를 찾아봅시다.\n",
    "\n",
    "soup.find(\"div\", id=\"u_skip\")"
   ]
  },
  {
   "cell_type": "markdown",
   "id": "96fdc49b-9ba9-4679-9165-fc12c06a8513",
   "metadata": {},
   "source": [
    "#### `class`를 이용해서 요소(들) 가져오기\n",
    "\n",
    "`class`는 유사한 요소들을 구분짓는 별명입니다.  \n",
    "`class`를 이용하면 해당하는 태그 단 하나를 쉽게 가져올 수 있습니다.  \n",
    "\n",
    "e.g. 차트 속의 데이터 등"
   ]
  },
  {
   "cell_type": "code",
   "execution_count": 27,
   "id": "e56203e6-22b3-44d6-9498-bca9cf27dbf5",
   "metadata": {},
   "outputs": [],
   "source": [
    "# class가 \"wrap\"인 div 태그를 찾아봅시다.\n",
    "\n",
    "# 위 결과에서 text 값을 깔끔하게 가져와봅시다.\n",
    "\n",
    "find_result = soup.find(\"div\", id = \"wrap\")"
   ]
  },
  {
   "cell_type": "markdown",
   "id": "97077597",
   "metadata": {},
   "source": [
    "#이는 객체이므로 다음과 같은 접근을 진행할 수 있겠죠?"
   ]
  },
  {
   "cell_type": "code",
   "execution_count": 30,
   "id": "ec8182c3",
   "metadata": {},
   "outputs": [
    {
     "data": {
      "text/plain": [
       "''"
      ]
     },
     "execution_count": 30,
     "metadata": {},
     "output_type": "execute_result"
    }
   ],
   "source": [
    "# 위 결과에서 text 값을 깔끔하게 가져와봅시다.\n",
    "\n",
    "find_result.h1.text.strip()"
   ]
  }
 ],
 "metadata": {
  "kernelspec": {
   "display_name": "Python 3 (ipykernel)",
   "language": "python",
   "name": "python3"
  },
  "language_info": {
   "codemirror_mode": {
    "name": "ipython",
    "version": 3
   },
   "file_extension": ".py",
   "mimetype": "text/x-python",
   "name": "python",
   "nbconvert_exporter": "python",
   "pygments_lexer": "ipython3",
   "version": "3.10.9"
  }
 },
 "nbformat": 4,
 "nbformat_minor": 5
}
